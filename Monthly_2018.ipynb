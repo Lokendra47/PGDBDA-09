{
 "cells": [
  {
   "cell_type": "code",
   "execution_count": 12,
   "id": "59f2a7df",
   "metadata": {},
   "outputs": [],
   "source": [
    "from pyspark.sql import SparkSession\n",
    "\n",
    "spark = SparkSession.builder \\\n",
    "    .appName(\"CSV to Hive\") \\\n",
    "    .enableHiveSupport() \\\n",
    "    .getOrCreate()\n",
    "\n",
    "csv_path = \"hdfs:///user/talentum/flight_2018/Flights_2018_3\""
   ]
  },
  {
   "cell_type": "code",
   "execution_count": 13,
   "id": "680f5f9e",
   "metadata": {},
   "outputs": [
    {
     "name": "stdout",
     "output_type": "stream",
     "text": [
      "52\n"
     ]
    }
   ],
   "source": [
    "cols_to_drop = [\n",
    "    \"DivReachedDest\", \"DivActualElapsedTime\", \"DivArrDelay\", \"DivDistance\", \"Div1Airport\",\n",
    "    \"Div1AirportID\", \"Div1AirportSeqID\", \"Div1WheelsOn\", \"Div1TotalGTime\", \"Div1LongestGTime\",\n",
    "    \"Div1WheelsOff\", \"Div1TailNum\", \"Div2Airport\", \"Div2AirportID\", \"Div2AirportSeqID\", \"Div2WheelsOn\",\n",
    "    \"Div2TotalGTime\", \"Div2LongestGTime\", \"Div2WheelsOff\", \"Div2TailNum\", \"Div3Airport\", \"Div3AirportID\",\n",
    "    \"Div3AirportSeqID\", \"Div3WheelsOn\", \"Div3TotalGTime\", \"Div3LongestGTime\", \"Div3WheelsOff\", \"Div3TailNum\",\n",
    "    \"Div4Airport\", \"Div4AirportID\", \"Div4AirportSeqID\", \"Div4WheelsOn\", \"Div4TotalGTime\", \"Div4LongestGTime\",\n",
    "    \"Div4WheelsOff\", \"Div4TailNum\", \"Div5Airport\", \"Div5AirportID\", \"Div5AirportSeqID\", \"Div5WheelsOn\",\n",
    "    \"Div5TotalGTime\", \"Div5LongestGTime\", \"Div5WheelsOff\", \"Div5TailNum\", \"Duplicate\",\n",
    "    \"Originally_Scheduled_Code_Share_Airline\",\"DOT_ID_Originally_Scheduled_Code_Share_Airline\",\n",
    "    \"IATA_Code_Originally_Scheduled_Code_Share_Airline\",\"Flight_Num_Originally_Scheduled_Code_Share_Airline\",\n",
    "    \"_c119\",\"Tail_Number\",\"CancellationCode\"\n",
    "]\n",
    "print(len(cols_to_drop))"
   ]
  },
  {
   "cell_type": "code",
   "execution_count": 14,
   "id": "9d8075fc",
   "metadata": {
    "scrolled": true
   },
   "outputs": [],
   "source": [
    "df = spark.read.option(\"header\", \"true\").csv(csv_path).drop(*cols_to_drop)"
   ]
  },
  {
   "cell_type": "code",
   "execution_count": 15,
   "id": "064c0a20",
   "metadata": {
    "scrolled": true
   },
   "outputs": [
    {
     "name": "stdout",
     "output_type": "stream",
     "text": [
      "root\n",
      " |-- Year: string (nullable = true)\n",
      " |-- Quarter: string (nullable = true)\n",
      " |-- Month: string (nullable = true)\n",
      " |-- DayofMonth: string (nullable = true)\n",
      " |-- DayOfWeek: string (nullable = true)\n",
      " |-- FlightDate: string (nullable = true)\n",
      " |-- Marketing_Airline_Network: string (nullable = true)\n",
      " |-- Operated_or_Branded_Code_Share_Partners: string (nullable = true)\n",
      " |-- DOT_ID_Marketing_Airline: string (nullable = true)\n",
      " |-- IATA_Code_Marketing_Airline: string (nullable = true)\n",
      " |-- Flight_Number_Marketing_Airline: string (nullable = true)\n",
      " |-- Operating_Airline : string (nullable = true)\n",
      " |-- DOT_ID_Operating_Airline: string (nullable = true)\n",
      " |-- IATA_Code_Operating_Airline: string (nullable = true)\n",
      " |-- Flight_Number_Operating_Airline: string (nullable = true)\n",
      " |-- OriginAirportID: string (nullable = true)\n",
      " |-- OriginAirportSeqID: string (nullable = true)\n",
      " |-- OriginCityMarketID: string (nullable = true)\n",
      " |-- Origin: string (nullable = true)\n",
      " |-- OriginCityName: string (nullable = true)\n",
      " |-- OriginState: string (nullable = true)\n",
      " |-- OriginStateFips: string (nullable = true)\n",
      " |-- OriginStateName: string (nullable = true)\n",
      " |-- OriginWac: string (nullable = true)\n",
      " |-- DestAirportID: string (nullable = true)\n",
      " |-- DestAirportSeqID: string (nullable = true)\n",
      " |-- DestCityMarketID: string (nullable = true)\n",
      " |-- Dest: string (nullable = true)\n",
      " |-- DestCityName: string (nullable = true)\n",
      " |-- DestState: string (nullable = true)\n",
      " |-- DestStateFips: string (nullable = true)\n",
      " |-- DestStateName: string (nullable = true)\n",
      " |-- DestWac: string (nullable = true)\n",
      " |-- CRSDepTime: string (nullable = true)\n",
      " |-- DepTime: string (nullable = true)\n",
      " |-- DepDelay: string (nullable = true)\n",
      " |-- DepDelayMinutes: string (nullable = true)\n",
      " |-- DepDel15: string (nullable = true)\n",
      " |-- DepartureDelayGroups: string (nullable = true)\n",
      " |-- DepTimeBlk: string (nullable = true)\n",
      " |-- TaxiOut: string (nullable = true)\n",
      " |-- WheelsOff: string (nullable = true)\n",
      " |-- WheelsOn: string (nullable = true)\n",
      " |-- TaxiIn: string (nullable = true)\n",
      " |-- CRSArrTime: string (nullable = true)\n",
      " |-- ArrTime: string (nullable = true)\n",
      " |-- ArrDelay: string (nullable = true)\n",
      " |-- ArrDelayMinutes: string (nullable = true)\n",
      " |-- ArrDel15: string (nullable = true)\n",
      " |-- ArrivalDelayGroups: string (nullable = true)\n",
      " |-- ArrTimeBlk: string (nullable = true)\n",
      " |-- Cancelled: string (nullable = true)\n",
      " |-- Diverted: string (nullable = true)\n",
      " |-- CRSElapsedTime: string (nullable = true)\n",
      " |-- ActualElapsedTime: string (nullable = true)\n",
      " |-- AirTime: string (nullable = true)\n",
      " |-- Flights: string (nullable = true)\n",
      " |-- Distance: string (nullable = true)\n",
      " |-- DistanceGroup: string (nullable = true)\n",
      " |-- CarrierDelay: string (nullable = true)\n",
      " |-- WeatherDelay: string (nullable = true)\n",
      " |-- NASDelay: string (nullable = true)\n",
      " |-- SecurityDelay: string (nullable = true)\n",
      " |-- LateAircraftDelay: string (nullable = true)\n",
      " |-- FirstDepTime: string (nullable = true)\n",
      " |-- TotalAddGTime: string (nullable = true)\n",
      " |-- LongestAddGTime: string (nullable = true)\n",
      " |-- DivAirportLandings: string (nullable = true)\n",
      "\n"
     ]
    }
   ],
   "source": [
    "df.printSchema()"
   ]
  },
  {
   "cell_type": "code",
   "execution_count": 16,
   "id": "9748d792",
   "metadata": {},
   "outputs": [
    {
     "name": "stdout",
     "output_type": "stream",
     "text": [
      "68\n"
     ]
    }
   ],
   "source": [
    "print(len(df.columns))"
   ]
  },
  {
   "cell_type": "code",
   "execution_count": 17,
   "id": "0454135e",
   "metadata": {},
   "outputs": [
    {
     "name": "stdout",
     "output_type": "stream",
     "text": [
      "Column: Year, Null count: 0\n",
      "Column: Quarter, Null count: 0\n",
      "Column: Month, Null count: 0\n",
      "Column: DayofMonth, Null count: 0\n",
      "Column: DayOfWeek, Null count: 0\n",
      "Column: FlightDate, Null count: 0\n",
      "Column: Marketing_Airline_Network, Null count: 0\n",
      "Column: Operated_or_Branded_Code_Share_Partners, Null count: 0\n",
      "Column: DOT_ID_Marketing_Airline, Null count: 0\n",
      "Column: IATA_Code_Marketing_Airline, Null count: 0\n",
      "Column: Flight_Number_Marketing_Airline, Null count: 0\n",
      "Column: Operating_Airline , Null count: 0\n",
      "Column: DOT_ID_Operating_Airline, Null count: 0\n",
      "Column: IATA_Code_Operating_Airline, Null count: 0\n",
      "Column: Flight_Number_Operating_Airline, Null count: 0\n",
      "Column: OriginAirportID, Null count: 0\n",
      "Column: OriginAirportSeqID, Null count: 0\n",
      "Column: OriginCityMarketID, Null count: 0\n",
      "Column: Origin, Null count: 0\n",
      "Column: OriginCityName, Null count: 0\n",
      "Column: OriginState, Null count: 0\n",
      "Column: OriginStateFips, Null count: 0\n",
      "Column: OriginStateName, Null count: 0\n",
      "Column: OriginWac, Null count: 0\n",
      "Column: DestAirportID, Null count: 0\n",
      "Column: DestAirportSeqID, Null count: 0\n",
      "Column: DestCityMarketID, Null count: 0\n",
      "Column: Dest, Null count: 0\n",
      "Column: DestCityName, Null count: 0\n",
      "Column: DestState, Null count: 0\n",
      "Column: DestStateFips, Null count: 0\n",
      "Column: DestStateName, Null count: 0\n",
      "Column: DestWac, Null count: 0\n",
      "Column: CRSDepTime, Null count: 0\n",
      "Column: DepTime, Null count: 8813\n",
      "Column: DepDelay, Null count: 8822\n",
      "Column: DepDelayMinutes, Null count: 8822\n",
      "Column: DepDel15, Null count: 8822\n",
      "Column: DepartureDelayGroups, Null count: 8822\n",
      "Column: DepTimeBlk, Null count: 0\n",
      "Column: TaxiOut, Null count: 9654\n",
      "Column: WheelsOff, Null count: 9653\n",
      "Column: WheelsOn, Null count: 9845\n",
      "Column: TaxiIn, Null count: 9845\n",
      "Column: CRSArrTime, Null count: 0\n",
      "Column: ArrTime, Null count: 9107\n",
      "Column: ArrDelay, Null count: 9528\n",
      "Column: ArrDelayMinutes, Null count: 9528\n",
      "Column: ArrDel15, Null count: 9528\n",
      "Column: ArrivalDelayGroups, Null count: 9528\n",
      "Column: ArrTimeBlk, Null count: 0\n",
      "Column: Cancelled, Null count: 0\n",
      "Column: Diverted, Null count: 0\n",
      "Column: CRSElapsedTime, Null count: 0\n",
      "Column: ActualElapsedTime, Null count: 9528\n",
      "Column: AirTime, Null count: 10263\n",
      "Column: Flights, Null count: 0\n",
      "Column: Distance, Null count: 0\n",
      "Column: DistanceGroup, Null count: 0\n",
      "Column: CarrierDelay, Null count: 285473\n",
      "Column: WeatherDelay, Null count: 285473\n",
      "Column: NASDelay, Null count: 285473\n",
      "Column: SecurityDelay, Null count: 285473\n",
      "Column: LateAircraftDelay, Null count: 285473\n",
      "Column: FirstDepTime, Null count: 344317\n",
      "Column: TotalAddGTime, Null count: 344317\n",
      "Column: LongestAddGTime, Null count: 344317\n",
      "Column: DivAirportLandings, Null count: 0\n"
     ]
    }
   ],
   "source": [
    "from pyspark.sql import functions as F\n",
    "\n",
    "# Count nulls column-wise for each column individually\n",
    "for col in df.columns:\n",
    "    null_count = df.filter(F.col(col).isNull()).count()\n",
    "    print(f\"Column: {col}, Null count: {null_count}\")"
   ]
  },
  {
   "cell_type": "code",
   "execution_count": 18,
   "id": "acedd2d2",
   "metadata": {},
   "outputs": [],
   "source": [
    "# 1. Compute Mode using percentile_approx for certain columns\n",
    "mode_wheels_off = df.agg(F.expr(\"percentile_approx(WheelsOff, 0.5)\")).collect()[0][0]\n",
    "mode_wheels_on = df.agg(F.expr(\"percentile_approx(WheelsOn, 0.5)\")).collect()[0][0]\n",
    "mode_air_time = df.agg(F.expr(\"percentile_approx(AirTime, 0.5)\")).collect()[0][0]\n",
    "mode_actual_elapsed_time = df.agg(F.expr(\"percentile_approx(ActualElapsedTime, 0.5)\")).collect()[0][0]\n",
    "\n",
    "# 2. Compute Mean for TaxiOut and TaxiIn\n",
    "mean_taxi_out = df.agg(F.round(F.avg(\"TaxiOut\"), 0)).collect()[0][0]\n",
    "mean_taxi_in = df.agg(F.round(F.avg(\"TaxiIn\"), 0)).collect()[0][0]\n",
    "\n",
    "# 3. Fill missing values with mode and mean for selected columns\n",
    "df_filled = df.fillna({\n",
    "    \"WheelsOff\": mode_wheels_off, \n",
    "    \"WheelsOn\": mode_wheels_on, \n",
    "    \"AirTime\": mode_air_time,\n",
    "    \"ActualElapsedTime\": mode_actual_elapsed_time,\n",
    "    \"TaxiOut\": mean_taxi_out,\n",
    "    \"TaxiIn\": mean_taxi_in\n",
    "})\n",
    "\n",
    "# 4. List of columns to impute with 0 (and cast them to double if needed)\n",
    "columns_to_impute = [\"LongestAddGTime\", \"TotalAddGTime\", \"FirstDepTime\", \"LateAircraftDelay\",\n",
    "                     \"CarrierDelay\", \"WeatherDelay\", \"NASDelay\", \"SecurityDelay\", \"ArrDelay\", \"ArrDelayMinutes\",\n",
    "                     \"ArrDel15\", \"DepDelay\", \"DepDelayMinutes\", \"DepDel15\"]\n",
    "\n",
    "# Cast columns to double before filling them with 0\n",
    "from pyspark.sql.functions import col\n",
    "\n",
    "for col_name in columns_to_impute:\n",
    "    df_filled = df_filled.withColumn(col_name, col(col_name).cast(\"double\"))\n",
    "\n",
    "# 5. Fill missing values in these columns with 0\n",
    "df_filled = df_filled.fillna(0, subset=columns_to_impute)\n",
    "\n",
    "# 6. Convert ArrivalDelayGroups and DepartureDelayGroups to double before filling with -1\n",
    "df_filled = df_filled.withColumn(\"ArrivalDelayGroups\", col(\"ArrivalDelayGroups\").cast(\"double\")) \\\n",
    "                     .withColumn(\"DepartureDelayGroups\", col(\"DepartureDelayGroups\").cast(\"double\"))\n",
    "\n",
    "# 7. Fill missing values in ArrivalDelayGroups and DepartureDelayGroups with -1\n",
    "df_filled = df_filled.fillna(-1, subset=[\"ArrivalDelayGroups\", \"DepartureDelayGroups\"])"
   ]
  },
  {
   "cell_type": "code",
   "execution_count": 19,
   "id": "b27d8b84",
   "metadata": {},
   "outputs": [],
   "source": [
    "df_cancelled= df_filled.filter(df_filled.Cancelled == 1)"
   ]
  },
  {
   "cell_type": "code",
   "execution_count": 20,
   "id": "28c2775d",
   "metadata": {},
   "outputs": [],
   "source": [
    "# Filter out rows where 'Cancelled' column is 1\n",
    "df_nc = df_filled.filter(df_filled.Cancelled != 1)"
   ]
  },
  {
   "cell_type": "code",
   "execution_count": 21,
   "id": "264f0e27",
   "metadata": {},
   "outputs": [],
   "source": [
    "from pyspark.sql.functions import when\n",
    "# Fill DepTime with CRSDepTime if null\n",
    "df_nc = df_nc.withColumn(\"DepTime\", when(col(\"DepTime\").isNull(), col(\"CRSDepTime\")).otherwise(col(\"DepTime\")))\n",
    "\n",
    "# Fill ArrTime with CRSArrTime if null\n",
    "df_nc = df_nc.withColumn(\"ArrTime\", when(col(\"ArrTime\").isNull(), col(\"CRSArrTime\")).otherwise(col(\"ArrTime\")))"
   ]
  },
  {
   "cell_type": "code",
   "execution_count": 22,
   "id": "09385d41",
   "metadata": {},
   "outputs": [
    {
     "name": "stdout",
     "output_type": "stream",
     "text": [
      "Column: Year, Null count: 0\n",
      "Column: Quarter, Null count: 0\n",
      "Column: Month, Null count: 0\n",
      "Column: DayofMonth, Null count: 0\n",
      "Column: DayOfWeek, Null count: 0\n",
      "Column: FlightDate, Null count: 0\n",
      "Column: Marketing_Airline_Network, Null count: 0\n",
      "Column: Operated_or_Branded_Code_Share_Partners, Null count: 0\n",
      "Column: DOT_ID_Marketing_Airline, Null count: 0\n",
      "Column: IATA_Code_Marketing_Airline, Null count: 0\n",
      "Column: Flight_Number_Marketing_Airline, Null count: 0\n",
      "Column: Operating_Airline , Null count: 0\n",
      "Column: DOT_ID_Operating_Airline, Null count: 0\n",
      "Column: IATA_Code_Operating_Airline, Null count: 0\n",
      "Column: Flight_Number_Operating_Airline, Null count: 0\n",
      "Column: OriginAirportID, Null count: 0\n",
      "Column: OriginAirportSeqID, Null count: 0\n",
      "Column: OriginCityMarketID, Null count: 0\n",
      "Column: Origin, Null count: 0\n",
      "Column: OriginCityName, Null count: 0\n",
      "Column: OriginState, Null count: 0\n",
      "Column: OriginStateFips, Null count: 0\n",
      "Column: OriginStateName, Null count: 0\n",
      "Column: OriginWac, Null count: 0\n",
      "Column: DestAirportID, Null count: 0\n",
      "Column: DestAirportSeqID, Null count: 0\n",
      "Column: DestCityMarketID, Null count: 0\n",
      "Column: Dest, Null count: 0\n",
      "Column: DestCityName, Null count: 0\n",
      "Column: DestState, Null count: 0\n",
      "Column: DestStateFips, Null count: 0\n",
      "Column: DestStateName, Null count: 0\n",
      "Column: DestWac, Null count: 0\n",
      "Column: CRSDepTime, Null count: 0\n",
      "Column: DepTime, Null count: 0\n",
      "Column: DepDelay, Null count: 0\n",
      "Column: DepDelayMinutes, Null count: 0\n",
      "Column: DepDel15, Null count: 0\n",
      "Column: DepartureDelayGroups, Null count: 0\n",
      "Column: DepTimeBlk, Null count: 0\n",
      "Column: TaxiOut, Null count: 0\n",
      "Column: WheelsOff, Null count: 0\n",
      "Column: WheelsOn, Null count: 0\n",
      "Column: TaxiIn, Null count: 0\n",
      "Column: CRSArrTime, Null count: 0\n",
      "Column: ArrTime, Null count: 0\n",
      "Column: ArrDelay, Null count: 0\n",
      "Column: ArrDelayMinutes, Null count: 0\n",
      "Column: ArrDel15, Null count: 0\n",
      "Column: ArrivalDelayGroups, Null count: 0\n",
      "Column: ArrTimeBlk, Null count: 0\n",
      "Column: Cancelled, Null count: 0\n",
      "Column: Diverted, Null count: 0\n",
      "Column: CRSElapsedTime, Null count: 0\n",
      "Column: ActualElapsedTime, Null count: 0\n",
      "Column: AirTime, Null count: 0\n",
      "Column: Flights, Null count: 0\n",
      "Column: Distance, Null count: 0\n",
      "Column: DistanceGroup, Null count: 0\n",
      "Column: CarrierDelay, Null count: 0\n",
      "Column: WeatherDelay, Null count: 0\n",
      "Column: NASDelay, Null count: 0\n",
      "Column: SecurityDelay, Null count: 0\n",
      "Column: LateAircraftDelay, Null count: 0\n",
      "Column: FirstDepTime, Null count: 0\n",
      "Column: TotalAddGTime, Null count: 0\n",
      "Column: LongestAddGTime, Null count: 0\n",
      "Column: DivAirportLandings, Null count: 0\n"
     ]
    }
   ],
   "source": [
    "for c in df_nc.columns:\n",
    "    null_count = df_nc.filter(F.col(c).isNull()).count()\n",
    "    print(f\"Column: {c}, Null count: {null_count}\")"
   ]
  },
  {
   "cell_type": "code",
   "execution_count": null,
   "id": "20804c81",
   "metadata": {},
   "outputs": [],
   "source": [
    "spark.stop()"
   ]
  }
 ],
 "metadata": {
  "kernelspec": {
   "display_name": "Python 3",
   "language": "python",
   "name": "python3"
  },
  "language_info": {
   "codemirror_mode": {
    "name": "ipython",
    "version": 3
   },
   "file_extension": ".py",
   "mimetype": "text/x-python",
   "name": "python",
   "nbconvert_exporter": "python",
   "pygments_lexer": "ipython3",
   "version": "3.6.9"
  }
 },
 "nbformat": 4,
 "nbformat_minor": 5
}
