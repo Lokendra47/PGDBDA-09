{
 "cells": [
  {
   "cell_type": "code",
   "execution_count": 73,
   "id": "d71e94dc",
   "metadata": {},
   "outputs": [
    {
     "name": "stdout",
     "output_type": "stream",
     "text": [
      "root\n",
      " |-- FlightDate: timestamp (nullable = true)\n",
      " |-- Airline: string (nullable = true)\n",
      " |-- Origin: string (nullable = true)\n",
      " |-- Dest: string (nullable = true)\n",
      " |-- Cancelled: boolean (nullable = true)\n",
      " |-- Diverted: boolean (nullable = true)\n",
      " |-- CRSDepTime: long (nullable = true)\n",
      " |-- DepTime: double (nullable = true)\n",
      " |-- DepDelayMinutes: double (nullable = true)\n",
      " |-- DepDelay: double (nullable = true)\n",
      " |-- ArrTime: double (nullable = true)\n",
      " |-- ArrDelayMinutes: double (nullable = true)\n",
      " |-- AirTime: double (nullable = true)\n",
      " |-- CRSElapsedTime: double (nullable = true)\n",
      " |-- ActualElapsedTime: double (nullable = true)\n",
      " |-- Distance: double (nullable = true)\n",
      " |-- Year: long (nullable = true)\n",
      " |-- Quarter: long (nullable = true)\n",
      " |-- Month: long (nullable = true)\n",
      " |-- DayofMonth: long (nullable = true)\n",
      " |-- DayOfWeek: long (nullable = true)\n",
      " |-- Marketing_Airline_Network: string (nullable = true)\n",
      " |-- Operated_or_Branded_Code_Share_Partners: string (nullable = true)\n",
      " |-- DOT_ID_Marketing_Airline: long (nullable = true)\n",
      " |-- IATA_Code_Marketing_Airline: string (nullable = true)\n",
      " |-- Flight_Number_Marketing_Airline: long (nullable = true)\n",
      " |-- Operating_Airline: string (nullable = true)\n",
      " |-- DOT_ID_Operating_Airline: long (nullable = true)\n",
      " |-- IATA_Code_Operating_Airline: string (nullable = true)\n",
      " |-- Tail_Number: string (nullable = true)\n",
      " |-- Flight_Number_Operating_Airline: long (nullable = true)\n",
      " |-- OriginAirportID: long (nullable = true)\n",
      " |-- OriginAirportSeqID: long (nullable = true)\n",
      " |-- OriginCityMarketID: long (nullable = true)\n",
      " |-- OriginCityName: string (nullable = true)\n",
      " |-- OriginState: string (nullable = true)\n",
      " |-- OriginStateFips: long (nullable = true)\n",
      " |-- OriginStateName: string (nullable = true)\n",
      " |-- OriginWac: long (nullable = true)\n",
      " |-- DestAirportID: long (nullable = true)\n",
      " |-- DestAirportSeqID: long (nullable = true)\n",
      " |-- DestCityMarketID: long (nullable = true)\n",
      " |-- DestCityName: string (nullable = true)\n",
      " |-- DestState: string (nullable = true)\n",
      " |-- DestStateFips: long (nullable = true)\n",
      " |-- DestStateName: string (nullable = true)\n",
      " |-- DestWac: long (nullable = true)\n",
      " |-- DepDel15: double (nullable = true)\n",
      " |-- DepartureDelayGroups: double (nullable = true)\n",
      " |-- DepTimeBlk: string (nullable = true)\n",
      " |-- TaxiOut: double (nullable = true)\n",
      " |-- WheelsOff: double (nullable = true)\n",
      " |-- WheelsOn: double (nullable = true)\n",
      " |-- TaxiIn: double (nullable = true)\n",
      " |-- CRSArrTime: long (nullable = true)\n",
      " |-- ArrDelay: double (nullable = true)\n",
      " |-- ArrDel15: double (nullable = true)\n",
      " |-- ArrivalDelayGroups: double (nullable = true)\n",
      " |-- ArrTimeBlk: string (nullable = true)\n",
      " |-- DistanceGroup: long (nullable = true)\n",
      " |-- DivAirportLandings: double (nullable = true)\n",
      " |-- __index_level_0__: long (nullable = true)\n",
      "\n",
      "+-------------------+-----------------+------+----+---------+--------+----------+-------+---------------+--------+-------+---------------+-------+--------------+-----------------+--------+----+-------+-----+----------+---------+-------------------------+---------------------------------------+------------------------+---------------------------+-------------------------------+-----------------+------------------------+---------------------------+-----------+-------------------------------+---------------+------------------+------------------+--------------+-----------+---------------+---------------+---------+-------------+----------------+----------------+------------+---------+-------------+-------------+-------+--------+--------------------+----------+-------+---------+--------+------+----------+--------+--------+------------------+----------+-------------+------------------+-----------------+\n",
      "|         FlightDate|          Airline|Origin|Dest|Cancelled|Diverted|CRSDepTime|DepTime|DepDelayMinutes|DepDelay|ArrTime|ArrDelayMinutes|AirTime|CRSElapsedTime|ActualElapsedTime|Distance|Year|Quarter|Month|DayofMonth|DayOfWeek|Marketing_Airline_Network|Operated_or_Branded_Code_Share_Partners|DOT_ID_Marketing_Airline|IATA_Code_Marketing_Airline|Flight_Number_Marketing_Airline|Operating_Airline|DOT_ID_Operating_Airline|IATA_Code_Operating_Airline|Tail_Number|Flight_Number_Operating_Airline|OriginAirportID|OriginAirportSeqID|OriginCityMarketID|OriginCityName|OriginState|OriginStateFips|OriginStateName|OriginWac|DestAirportID|DestAirportSeqID|DestCityMarketID|DestCityName|DestState|DestStateFips|DestStateName|DestWac|DepDel15|DepartureDelayGroups|DepTimeBlk|TaxiOut|WheelsOff|WheelsOn|TaxiIn|CRSArrTime|ArrDelay|ArrDel15|ArrivalDelayGroups|ArrTimeBlk|DistanceGroup|DivAirportLandings|__index_level_0__|\n",
      "+-------------------+-----------------+------+----+---------+--------+----------+-------+---------------+--------+-------+---------------+-------+--------------+-----------------+--------+----+-------+-----+----------+---------+-------------------------+---------------------------------------+------------------------+---------------------------+-------------------------------+-----------------+------------------------+---------------------------+-----------+-------------------------------+---------------+------------------+------------------+--------------+-----------+---------------+---------------+---------+-------------+----------------+----------------+------------+---------+-------------+-------------+-------+--------+--------------------+----------+-------+---------+--------+------+----------+--------+--------+------------------+----------+-------------+------------------+-----------------+\n",
      "|2018-01-23 05:30:00|Endeavor Air Inc.|   ABY| ATL|    false|   false|      1202| 1157.0|            0.0|    -5.0| 1256.0|            0.0|   38.0|          62.0|             59.0|   145.0|2018|      1|    1|        23|        2|                       DL|                           DL_CODESHARE|                   19790|                         DL|                           3298|               9E|                   20363|                         9E|     N8928A|                           3298|          10146|           1014602|             30146|    Albany, GA|         GA|             13|        Georgia|       34|        10397|         1039707|           30397| Atlanta, GA|       GA|           13|      Georgia|     34|     0.0|                -1.0| 1200-1259|   14.0|   1211.0|  1249.0|   7.0|      1304|    -8.0|     0.0|              -1.0| 1300-1359|            1|               0.0|                0|\n",
      "|2018-01-24 05:30:00|Endeavor Air Inc.|   ABY| ATL|    false|   false|      1202| 1157.0|            0.0|    -5.0| 1258.0|            0.0|   36.0|          62.0|             61.0|   145.0|2018|      1|    1|        24|        3|                       DL|                           DL_CODESHARE|                   19790|                         DL|                           3298|               9E|                   20363|                         9E|     N800AY|                           3298|          10146|           1014602|             30146|    Albany, GA|         GA|             13|        Georgia|       34|        10397|         1039707|           30397| Atlanta, GA|       GA|           13|      Georgia|     34|     0.0|                -1.0| 1200-1259|   13.0|   1210.0|  1246.0|  12.0|      1304|    -6.0|     0.0|              -1.0| 1300-1359|            1|               0.0|                1|\n",
      "|2018-01-25 05:30:00|Endeavor Air Inc.|   ABY| ATL|    false|   false|      1202| 1153.0|            0.0|    -9.0| 1302.0|            0.0|   40.0|          62.0|             69.0|   145.0|2018|      1|    1|        25|        4|                       DL|                           DL_CODESHARE|                   19790|                         DL|                           3298|               9E|                   20363|                         9E|     N8836A|                           3298|          10146|           1014602|             30146|    Albany, GA|         GA|             13|        Georgia|       34|        10397|         1039707|           30397| Atlanta, GA|       GA|           13|      Georgia|     34|     0.0|                -1.0| 1200-1259|   18.0|   1211.0|  1251.0|  11.0|      1304|    -2.0|     0.0|              -1.0| 1300-1359|            1|               0.0|                2|\n",
      "|2018-01-26 05:30:00|Endeavor Air Inc.|   ABY| ATL|    false|   false|      1202| 1150.0|            0.0|   -12.0| 1253.0|            0.0|   35.0|          62.0|             63.0|   145.0|2018|      1|    1|        26|        5|                       DL|                           DL_CODESHARE|                   19790|                         DL|                           3298|               9E|                   20363|                         9E|     N800AY|                           3298|          10146|           1014602|             30146|    Albany, GA|         GA|             13|        Georgia|       34|        10397|         1039707|           30397| Atlanta, GA|       GA|           13|      Georgia|     34|     0.0|                -1.0| 1200-1259|   17.0|   1207.0|  1242.0|  11.0|      1304|   -11.0|     0.0|              -1.0| 1300-1359|            1|               0.0|                3|\n",
      "|2018-01-27 05:30:00|Endeavor Air Inc.|   ABY| ATL|    false|   false|      1400| 1355.0|            0.0|    -5.0| 1459.0|            0.0|   36.0|          60.0|             64.0|   145.0|2018|      1|    1|        27|        6|                       DL|                           DL_CODESHARE|                   19790|                         DL|                           3298|               9E|                   20363|                         9E|     N8839E|                           3298|          10146|           1014602|             30146|    Albany, GA|         GA|             13|        Georgia|       34|        10397|         1039707|           30397| Atlanta, GA|       GA|           13|      Georgia|     34|     0.0|                -1.0| 1400-1459|   17.0|   1412.0|  1448.0|  11.0|      1500|    -1.0|     0.0|              -1.0| 1500-1559|            1|               0.0|                4|\n",
      "+-------------------+-----------------+------+----+---------+--------+----------+-------+---------------+--------+-------+---------------+-------+--------------+-----------------+--------+----+-------+-----+----------+---------+-------------------------+---------------------------------------+------------------------+---------------------------+-------------------------------+-----------------+------------------------+---------------------------+-----------+-------------------------------+---------------+------------------+------------------+--------------+-----------+---------------+---------------+---------+-------------+----------------+----------------+------------+---------+-------------+-------------+-------+--------+--------------------+----------+-------+---------+--------+------+----------+--------+--------+------------------+----------+-------------+------------------+-----------------+\n",
      "only showing top 5 rows\n",
      "\n"
     ]
    }
   ],
   "source": [
    "from pyspark.sql import SparkSession\n",
    "\n",
    "# Initialize Spark session\n",
    "spark = SparkSession.builder \\\n",
    "    .appName(\"FlightDataProcessing\") \\\n",
    "    .config(\"spark.sql.catalogImplementation\", \"hive\") \\\n",
    "    .enableHiveSupport() \\\n",
    "    .getOrCreate()\n",
    "\n",
    "# Load Parquet file into a DataFrame\n",
    "df = spark.read.parquet(\"Combined_Flights_2018.parquet\")\n",
    "\n",
    "# Show schema and data\n",
    "df.printSchema()\n",
    "df.show(5)\n"
   ]
  },
  {
   "cell_type": "code",
   "execution_count": 81,
   "id": "33223216",
   "metadata": {},
   "outputs": [],
   "source": [
    "columns = df.columns"
   ]
  },
  {
   "cell_type": "code",
   "execution_count": 82,
   "id": "9937af09",
   "metadata": {},
   "outputs": [],
   "source": [
    "from pyspark.sql import SparkSession\n",
    "from pyspark.sql.functions import col, sum as spark_sum"
   ]
  },
  {
   "cell_type": "code",
   "execution_count": 83,
   "id": "f43f6495",
   "metadata": {},
   "outputs": [
    {
     "name": "stdout",
     "output_type": "stream",
     "text": [
      "+-------------------+-----------------+------+----+---------+--------+----------+-------+---------------+--------+-------+---------------+-------+--------------+-----------------+--------+----+-------+-----+----------+---------+-------------------------+---------------------------------------+------------------------+---------------------------+-------------------------------+-----------------+------------------------+---------------------------+-----------+-------------------------------+---------------+------------------+------------------+--------------+-----------+---------------+---------------+---------+-------------+----------------+----------------+------------+---------+-------------+-------------+-------+--------+--------------------+----------+-------+---------+--------+------+----------+--------+--------+------------------+----------+-------------+------------------+-----------------+\n",
      "|         FlightDate|          Airline|Origin|Dest|Cancelled|Diverted|CRSDepTime|DepTime|DepDelayMinutes|DepDelay|ArrTime|ArrDelayMinutes|AirTime|CRSElapsedTime|ActualElapsedTime|Distance|Year|Quarter|Month|DayofMonth|DayOfWeek|Marketing_Airline_Network|Operated_or_Branded_Code_Share_Partners|DOT_ID_Marketing_Airline|IATA_Code_Marketing_Airline|Flight_Number_Marketing_Airline|Operating_Airline|DOT_ID_Operating_Airline|IATA_Code_Operating_Airline|Tail_Number|Flight_Number_Operating_Airline|OriginAirportID|OriginAirportSeqID|OriginCityMarketID|OriginCityName|OriginState|OriginStateFips|OriginStateName|OriginWac|DestAirportID|DestAirportSeqID|DestCityMarketID|DestCityName|DestState|DestStateFips|DestStateName|DestWac|DepDel15|DepartureDelayGroups|DepTimeBlk|TaxiOut|WheelsOff|WheelsOn|TaxiIn|CRSArrTime|ArrDelay|ArrDel15|ArrivalDelayGroups|ArrTimeBlk|DistanceGroup|DivAirportLandings|__index_level_0__|\n",
      "+-------------------+-----------------+------+----+---------+--------+----------+-------+---------------+--------+-------+---------------+-------+--------------+-----------------+--------+----+-------+-----+----------+---------+-------------------------+---------------------------------------+------------------------+---------------------------+-------------------------------+-----------------+------------------------+---------------------------+-----------+-------------------------------+---------------+------------------+------------------+--------------+-----------+---------------+---------------+---------+-------------+----------------+----------------+------------+---------+-------------+-------------+-------+--------+--------------------+----------+-------+---------+--------+------+----------+--------+--------+------------------+----------+-------------+------------------+-----------------+\n",
      "|2018-01-23 05:30:00|Endeavor Air Inc.|   ABY| ATL|    false|   false|      1202| 1157.0|            0.0|    -5.0| 1256.0|            0.0|   38.0|          62.0|             59.0|   145.0|2018|      1|    1|        23|        2|                       DL|                           DL_CODESHARE|                   19790|                         DL|                           3298|               9E|                   20363|                         9E|     N8928A|                           3298|          10146|           1014602|             30146|    Albany, GA|         GA|             13|        Georgia|       34|        10397|         1039707|           30397| Atlanta, GA|       GA|           13|      Georgia|     34|     0.0|                -1.0| 1200-1259|   14.0|   1211.0|  1249.0|   7.0|      1304|    -8.0|     0.0|              -1.0| 1300-1359|            1|               0.0|                0|\n",
      "|2018-01-24 05:30:00|Endeavor Air Inc.|   ABY| ATL|    false|   false|      1202| 1157.0|            0.0|    -5.0| 1258.0|            0.0|   36.0|          62.0|             61.0|   145.0|2018|      1|    1|        24|        3|                       DL|                           DL_CODESHARE|                   19790|                         DL|                           3298|               9E|                   20363|                         9E|     N800AY|                           3298|          10146|           1014602|             30146|    Albany, GA|         GA|             13|        Georgia|       34|        10397|         1039707|           30397| Atlanta, GA|       GA|           13|      Georgia|     34|     0.0|                -1.0| 1200-1259|   13.0|   1210.0|  1246.0|  12.0|      1304|    -6.0|     0.0|              -1.0| 1300-1359|            1|               0.0|                1|\n",
      "|2018-01-25 05:30:00|Endeavor Air Inc.|   ABY| ATL|    false|   false|      1202| 1153.0|            0.0|    -9.0| 1302.0|            0.0|   40.0|          62.0|             69.0|   145.0|2018|      1|    1|        25|        4|                       DL|                           DL_CODESHARE|                   19790|                         DL|                           3298|               9E|                   20363|                         9E|     N8836A|                           3298|          10146|           1014602|             30146|    Albany, GA|         GA|             13|        Georgia|       34|        10397|         1039707|           30397| Atlanta, GA|       GA|           13|      Georgia|     34|     0.0|                -1.0| 1200-1259|   18.0|   1211.0|  1251.0|  11.0|      1304|    -2.0|     0.0|              -1.0| 1300-1359|            1|               0.0|                2|\n",
      "|2018-01-26 05:30:00|Endeavor Air Inc.|   ABY| ATL|    false|   false|      1202| 1150.0|            0.0|   -12.0| 1253.0|            0.0|   35.0|          62.0|             63.0|   145.0|2018|      1|    1|        26|        5|                       DL|                           DL_CODESHARE|                   19790|                         DL|                           3298|               9E|                   20363|                         9E|     N800AY|                           3298|          10146|           1014602|             30146|    Albany, GA|         GA|             13|        Georgia|       34|        10397|         1039707|           30397| Atlanta, GA|       GA|           13|      Georgia|     34|     0.0|                -1.0| 1200-1259|   17.0|   1207.0|  1242.0|  11.0|      1304|   -11.0|     0.0|              -1.0| 1300-1359|            1|               0.0|                3|\n",
      "|2018-01-27 05:30:00|Endeavor Air Inc.|   ABY| ATL|    false|   false|      1400| 1355.0|            0.0|    -5.0| 1459.0|            0.0|   36.0|          60.0|             64.0|   145.0|2018|      1|    1|        27|        6|                       DL|                           DL_CODESHARE|                   19790|                         DL|                           3298|               9E|                   20363|                         9E|     N8839E|                           3298|          10146|           1014602|             30146|    Albany, GA|         GA|             13|        Georgia|       34|        10397|         1039707|           30397| Atlanta, GA|       GA|           13|      Georgia|     34|     0.0|                -1.0| 1400-1459|   17.0|   1412.0|  1448.0|  11.0|      1500|    -1.0|     0.0|              -1.0| 1500-1559|            1|               0.0|                4|\n",
      "+-------------------+-----------------+------+----+---------+--------+----------+-------+---------------+--------+-------+---------------+-------+--------------+-----------------+--------+----+-------+-----+----------+---------+-------------------------+---------------------------------------+------------------------+---------------------------+-------------------------------+-----------------+------------------------+---------------------------+-----------+-------------------------------+---------------+------------------+------------------+--------------+-----------+---------------+---------------+---------+-------------+----------------+----------------+------------+---------+-------------+-------------+-------+--------+--------------------+----------+-------+---------+--------+------+----------+--------+--------+------------------+----------+-------------+------------------+-----------------+\n",
      "only showing top 5 rows\n",
      "\n"
     ]
    }
   ],
   "source": [
    "from pyspark.sql import SparkSession\n",
    "\n",
    "# Initialize Spark session\n",
    "spark = SparkSession.builder.appName(\"FlightDelayETL\").getOrCreate()\n",
    "\n",
    "# Load the dataset into a DataFrame (assuming dataset is already downloaded in path)\n",
    "df = spark.read.parquet(\"Combined_Flights_2018.parquet\")\n",
    "\n",
    "# Show the first few rows to understand the structure\n",
    "df.show(5)\n"
   ]
  },
  {
   "cell_type": "code",
   "execution_count": 12,
   "id": "4ce8a796",
   "metadata": {},
   "outputs": [
    {
     "name": "stdout",
     "output_type": "stream",
     "text": [
      "+-------------------+-----------------+------+----+---------+--------+----------+-------+---------------+--------+-------+---------------+-------+--------------+-----------------+--------+----+-------+-----+----------+---------+-------------------------+---------------------------------------+------------------------+---------------------------+-------------------------------+-----------------+------------------------+---------------------------+-----------+-------------------------------+---------------+------------------+------------------+--------------+-----------+---------------+---------------+---------+-------------+----------------+----------------+------------+---------+-------------+-------------+-------+--------+--------------------+----------+-------+---------+--------+------+----------+--------+--------+------------------+----------+-------------+------------------+-----------------+\n",
      "|         FlightDate|          Airline|Origin|Dest|Cancelled|Diverted|CRSDepTime|DepTime|DepDelayMinutes|DepDelay|ArrTime|ArrDelayMinutes|AirTime|CRSElapsedTime|ActualElapsedTime|Distance|Year|Quarter|Month|DayofMonth|DayOfWeek|Marketing_Airline_Network|Operated_or_Branded_Code_Share_Partners|DOT_ID_Marketing_Airline|IATA_Code_Marketing_Airline|Flight_Number_Marketing_Airline|Operating_Airline|DOT_ID_Operating_Airline|IATA_Code_Operating_Airline|Tail_Number|Flight_Number_Operating_Airline|OriginAirportID|OriginAirportSeqID|OriginCityMarketID|OriginCityName|OriginState|OriginStateFips|OriginStateName|OriginWac|DestAirportID|DestAirportSeqID|DestCityMarketID|DestCityName|DestState|DestStateFips|DestStateName|DestWac|DepDel15|DepartureDelayGroups|DepTimeBlk|TaxiOut|WheelsOff|WheelsOn|TaxiIn|CRSArrTime|ArrDelay|ArrDel15|ArrivalDelayGroups|ArrTimeBlk|DistanceGroup|DivAirportLandings|__index_level_0__|\n",
      "+-------------------+-----------------+------+----+---------+--------+----------+-------+---------------+--------+-------+---------------+-------+--------------+-----------------+--------+----+-------+-----+----------+---------+-------------------------+---------------------------------------+------------------------+---------------------------+-------------------------------+-----------------+------------------------+---------------------------+-----------+-------------------------------+---------------+------------------+------------------+--------------+-----------+---------------+---------------+---------+-------------+----------------+----------------+------------+---------+-------------+-------------+-------+--------+--------------------+----------+-------+---------+--------+------+----------+--------+--------+------------------+----------+-------------+------------------+-----------------+\n",
      "|2018-01-23 05:30:00|Endeavor Air Inc.|   ABY| ATL|        0|       0|      1202| 1157.0|            0.0|    -5.0| 1256.0|            0.0|   38.0|          62.0|             59.0|   145.0|2018|      1|    1|        23|        2|                       DL|                           DL_CODESHARE|                   19790|                         DL|                           3298|               9E|                   20363|                         9E|     N8928A|                           3298|          10146|           1014602|             30146|    Albany, GA|         GA|             13|        Georgia|       34|        10397|         1039707|           30397| Atlanta, GA|       GA|           13|      Georgia|     34|     0.0|                -1.0| 1200-1259|   14.0|   1211.0|  1249.0|   7.0|      1304|    -8.0|     0.0|              -1.0| 1300-1359|            1|               0.0|                0|\n",
      "|2018-01-24 05:30:00|Endeavor Air Inc.|   ABY| ATL|        0|       0|      1202| 1157.0|            0.0|    -5.0| 1258.0|            0.0|   36.0|          62.0|             61.0|   145.0|2018|      1|    1|        24|        3|                       DL|                           DL_CODESHARE|                   19790|                         DL|                           3298|               9E|                   20363|                         9E|     N800AY|                           3298|          10146|           1014602|             30146|    Albany, GA|         GA|             13|        Georgia|       34|        10397|         1039707|           30397| Atlanta, GA|       GA|           13|      Georgia|     34|     0.0|                -1.0| 1200-1259|   13.0|   1210.0|  1246.0|  12.0|      1304|    -6.0|     0.0|              -1.0| 1300-1359|            1|               0.0|                1|\n",
      "|2018-01-25 05:30:00|Endeavor Air Inc.|   ABY| ATL|        0|       0|      1202| 1153.0|            0.0|    -9.0| 1302.0|            0.0|   40.0|          62.0|             69.0|   145.0|2018|      1|    1|        25|        4|                       DL|                           DL_CODESHARE|                   19790|                         DL|                           3298|               9E|                   20363|                         9E|     N8836A|                           3298|          10146|           1014602|             30146|    Albany, GA|         GA|             13|        Georgia|       34|        10397|         1039707|           30397| Atlanta, GA|       GA|           13|      Georgia|     34|     0.0|                -1.0| 1200-1259|   18.0|   1211.0|  1251.0|  11.0|      1304|    -2.0|     0.0|              -1.0| 1300-1359|            1|               0.0|                2|\n",
      "|2018-01-26 05:30:00|Endeavor Air Inc.|   ABY| ATL|        0|       0|      1202| 1150.0|            0.0|   -12.0| 1253.0|            0.0|   35.0|          62.0|             63.0|   145.0|2018|      1|    1|        26|        5|                       DL|                           DL_CODESHARE|                   19790|                         DL|                           3298|               9E|                   20363|                         9E|     N800AY|                           3298|          10146|           1014602|             30146|    Albany, GA|         GA|             13|        Georgia|       34|        10397|         1039707|           30397| Atlanta, GA|       GA|           13|      Georgia|     34|     0.0|                -1.0| 1200-1259|   17.0|   1207.0|  1242.0|  11.0|      1304|   -11.0|     0.0|              -1.0| 1300-1359|            1|               0.0|                3|\n",
      "|2018-01-27 05:30:00|Endeavor Air Inc.|   ABY| ATL|        0|       0|      1400| 1355.0|            0.0|    -5.0| 1459.0|            0.0|   36.0|          60.0|             64.0|   145.0|2018|      1|    1|        27|        6|                       DL|                           DL_CODESHARE|                   19790|                         DL|                           3298|               9E|                   20363|                         9E|     N8839E|                           3298|          10146|           1014602|             30146|    Albany, GA|         GA|             13|        Georgia|       34|        10397|         1039707|           30397| Atlanta, GA|       GA|           13|      Georgia|     34|     0.0|                -1.0| 1400-1459|   17.0|   1412.0|  1448.0|  11.0|      1500|    -1.0|     0.0|              -1.0| 1500-1559|            1|               0.0|                4|\n",
      "+-------------------+-----------------+------+----+---------+--------+----------+-------+---------------+--------+-------+---------------+-------+--------------+-----------------+--------+----+-------+-----+----------+---------+-------------------------+---------------------------------------+------------------------+---------------------------+-------------------------------+-----------------+------------------------+---------------------------+-----------+-------------------------------+---------------+------------------+------------------+--------------+-----------+---------------+---------------+---------+-------------+----------------+----------------+------------+---------+-------------+-------------+-------+--------+--------------------+----------+-------+---------+--------+------+----------+--------+--------+------------------+----------+-------------+------------------+-----------------+\n",
      "only showing top 5 rows\n",
      "\n"
     ]
    }
   ],
   "source": [
    "from pyspark.sql.functions import col, to_timestamp, when\n",
    "\n",
    "# Example of cleaning and transforming the data\n",
    "\n",
    "df_clean = df \\\n",
    "    .withColumn(\"FlightDate\", to_timestamp(col(\"FlightDate\"))) \\\n",
    "    .withColumn(\"Cancelled\", when(col(\"Cancelled\") == \"Yes\", 1).otherwise(0)) \\\n",
    "    .withColumn(\"Diverted\", when(col(\"Diverted\") == \"Yes\", 1).otherwise(0)) \\\n",
    "    .withColumn(\"DepDelay\", when(col(\"DepDelay\").isNull(), 0).otherwise(col(\"DepDelay\"))) \\\n",
    "    .withColumn(\"ArrDelay\", when(col(\"ArrDelay\").isNull(), 0).otherwise(col(\"ArrDelay\"))) \\\n",
    "    .withColumn(\"Distance\", col(\"Distance\").cast(\"double\")) \\\n",
    "    .withColumn(\"Year\", col(\"Year\").cast(\"long\")) \\\n",
    "    .withColumn(\"Month\", col(\"Month\").cast(\"long\")) \\\n",
    "    .withColumn(\"DayofMonth\", col(\"DayofMonth\").cast(\"long\")) \\\n",
    "    .withColumn(\"DayOfWeek\", col(\"DayOfWeek\").cast(\"long\")) \\\n",
    "    .withColumn(\"DepTime\", col(\"DepTime\").cast(\"double\")) \\\n",
    "    .withColumn(\"ArrTime\", col(\"ArrTime\").cast(\"double\")) \\\n",
    "    .withColumn(\"ArrDelayMinutes\", col(\"ArrDelayMinutes\").cast(\"double\")) \\\n",
    "    .dropna(subset=[\"FlightDate\", \"Origin\", \"Dest\"])\n",
    "\n",
    "# Show the transformed data (first few rows)\n",
    "df_clean.show(5)\n"
   ]
  },
  {
   "cell_type": "code",
   "execution_count": 14,
   "id": "6bd61744",
   "metadata": {},
   "outputs": [
    {
     "name": "stdout",
     "output_type": "stream",
     "text": [
      "+-------------------+-----------------+------+----+---------+--------+----------+-------+---------------+--------+-------+---------------+-------+--------------+-----------------+--------+----+-------+-----+----------+---------+-------------------------+---------------------------------------+------------------------+---------------------------+-------------------------------+-----------------+------------------------+---------------------------+-----------+-------------------------------+---------------+------------------+------------------+--------------+-----------+---------------+---------------+---------+-------------+----------------+----------------+------------+---------+-------------+-------------+-------+--------+--------------------+----------+-------+---------+--------+------+----------+--------+--------+------------------+----------+-------------+------------------+-----------------+\n",
      "|         FlightDate|          Airline|Origin|Dest|Cancelled|Diverted|CRSDepTime|DepTime|DepDelayMinutes|DepDelay|ArrTime|ArrDelayMinutes|AirTime|CRSElapsedTime|ActualElapsedTime|Distance|Year|Quarter|Month|DayofMonth|DayOfWeek|Marketing_Airline_Network|Operated_or_Branded_Code_Share_Partners|DOT_ID_Marketing_Airline|IATA_Code_Marketing_Airline|Flight_Number_Marketing_Airline|Operating_Airline|DOT_ID_Operating_Airline|IATA_Code_Operating_Airline|Tail_Number|Flight_Number_Operating_Airline|OriginAirportID|OriginAirportSeqID|OriginCityMarketID|OriginCityName|OriginState|OriginStateFips|OriginStateName|OriginWac|DestAirportID|DestAirportSeqID|DestCityMarketID|DestCityName|DestState|DestStateFips|DestStateName|DestWac|DepDel15|DepartureDelayGroups|DepTimeBlk|TaxiOut|WheelsOff|WheelsOn|TaxiIn|CRSArrTime|ArrDelay|ArrDel15|ArrivalDelayGroups|ArrTimeBlk|DistanceGroup|DivAirportLandings|__index_level_0__|\n",
      "+-------------------+-----------------+------+----+---------+--------+----------+-------+---------------+--------+-------+---------------+-------+--------------+-----------------+--------+----+-------+-----+----------+---------+-------------------------+---------------------------------------+------------------------+---------------------------+-------------------------------+-----------------+------------------------+---------------------------+-----------+-------------------------------+---------------+------------------+------------------+--------------+-----------+---------------+---------------+---------+-------------+----------------+----------------+------------+---------+-------------+-------------+-------+--------+--------------------+----------+-------+---------+--------+------+----------+--------+--------+------------------+----------+-------------+------------------+-----------------+\n",
      "|2018-01-23 05:30:00|Endeavor Air Inc.|   ABY| ATL|        0|       0|      1202| 1157.0|            0.0|    -5.0| 1256.0|            0.0|   38.0|          62.0|             59.0|   145.0|2018|      1|    1|        23|        2|                       DL|                           DL_CODESHARE|                   19790|                         DL|                           3298|               9E|                   20363|                         9E|     N8928A|                           3298|          10146|           1014602|             30146|    Albany, GA|         GA|             13|        Georgia|       34|        10397|         1039707|           30397| Atlanta, GA|       GA|           13|      Georgia|     34|     0.0|                -1.0| 1200-1259|   14.0|   1211.0|  1249.0|   7.0|      1304|    -8.0|     0.0|              -1.0| 1300-1359|            1|               0.0|                0|\n",
      "|2018-01-24 05:30:00|Endeavor Air Inc.|   ABY| ATL|        0|       0|      1202| 1157.0|            0.0|    -5.0| 1258.0|            0.0|   36.0|          62.0|             61.0|   145.0|2018|      1|    1|        24|        3|                       DL|                           DL_CODESHARE|                   19790|                         DL|                           3298|               9E|                   20363|                         9E|     N800AY|                           3298|          10146|           1014602|             30146|    Albany, GA|         GA|             13|        Georgia|       34|        10397|         1039707|           30397| Atlanta, GA|       GA|           13|      Georgia|     34|     0.0|                -1.0| 1200-1259|   13.0|   1210.0|  1246.0|  12.0|      1304|    -6.0|     0.0|              -1.0| 1300-1359|            1|               0.0|                1|\n",
      "|2018-01-25 05:30:00|Endeavor Air Inc.|   ABY| ATL|        0|       0|      1202| 1153.0|            0.0|    -9.0| 1302.0|            0.0|   40.0|          62.0|             69.0|   145.0|2018|      1|    1|        25|        4|                       DL|                           DL_CODESHARE|                   19790|                         DL|                           3298|               9E|                   20363|                         9E|     N8836A|                           3298|          10146|           1014602|             30146|    Albany, GA|         GA|             13|        Georgia|       34|        10397|         1039707|           30397| Atlanta, GA|       GA|           13|      Georgia|     34|     0.0|                -1.0| 1200-1259|   18.0|   1211.0|  1251.0|  11.0|      1304|    -2.0|     0.0|              -1.0| 1300-1359|            1|               0.0|                2|\n",
      "|2018-01-26 05:30:00|Endeavor Air Inc.|   ABY| ATL|        0|       0|      1202| 1150.0|            0.0|   -12.0| 1253.0|            0.0|   35.0|          62.0|             63.0|   145.0|2018|      1|    1|        26|        5|                       DL|                           DL_CODESHARE|                   19790|                         DL|                           3298|               9E|                   20363|                         9E|     N800AY|                           3298|          10146|           1014602|             30146|    Albany, GA|         GA|             13|        Georgia|       34|        10397|         1039707|           30397| Atlanta, GA|       GA|           13|      Georgia|     34|     0.0|                -1.0| 1200-1259|   17.0|   1207.0|  1242.0|  11.0|      1304|   -11.0|     0.0|              -1.0| 1300-1359|            1|               0.0|                3|\n",
      "|2018-01-27 05:30:00|Endeavor Air Inc.|   ABY| ATL|        0|       0|      1400| 1355.0|            0.0|    -5.0| 1459.0|            0.0|   36.0|          60.0|             64.0|   145.0|2018|      1|    1|        27|        6|                       DL|                           DL_CODESHARE|                   19790|                         DL|                           3298|               9E|                   20363|                         9E|     N8839E|                           3298|          10146|           1014602|             30146|    Albany, GA|         GA|             13|        Georgia|       34|        10397|         1039707|           30397| Atlanta, GA|       GA|           13|      Georgia|     34|     0.0|                -1.0| 1400-1459|   17.0|   1412.0|  1448.0|  11.0|      1500|    -1.0|     0.0|              -1.0| 1500-1559|            1|               0.0|                4|\n",
      "+-------------------+-----------------+------+----+---------+--------+----------+-------+---------------+--------+-------+---------------+-------+--------------+-----------------+--------+----+-------+-----+----------+---------+-------------------------+---------------------------------------+------------------------+---------------------------+-------------------------------+-----------------+------------------------+---------------------------+-----------+-------------------------------+---------------+------------------+------------------+--------------+-----------+---------------+---------------+---------+-------------+----------------+----------------+------------+---------+-------------+-------------+-------+--------+--------------------+----------+-------+---------+--------+------+----------+--------+--------+------------------+----------+-------------+------------------+-----------------+\n",
      "only showing top 5 rows\n",
      "\n"
     ]
    }
   ],
   "source": [
    "# Save the cleaned data into Parquet format\n",
    "output_path = \"hdfs:///user/talentum/cleaned_flight_data.parquet\"\n",
    "df_clean.write.parquet(output_path, mode=\"overwrite\")\n",
    "\n",
    "# Verify the saved data\n",
    "df_loaded = spark.read.parquet(output_path)\n",
    "df_loaded.show(5)\n"
   ]
  },
  {
   "cell_type": "code",
   "execution_count": 15,
   "id": "e5b32191",
   "metadata": {},
   "outputs": [
    {
     "name": "stdout",
     "output_type": "stream",
     "text": [
      "+--------------------+--------------------+\n",
      "|             Airline|avg(ArrDelayMinutes)|\n",
      "+--------------------+--------------------+\n",
      "|GoJet Airlines, L...|  16.987283181446898|\n",
      "|   Endeavor Air Inc.|  14.456738946486722|\n",
      "|       Allegiant Air|   17.54758803260778|\n",
      "|SkyWest Airlines ...|  15.656154350049608|\n",
      "|      Virgin America|  11.950970675683553|\n",
      "|         Horizon Air|    8.27978126451982|\n",
      "|United Air Lines ...|  14.477765219583194|\n",
      "|Air Wisconsin Air...|  17.881933762360696|\n",
      "|Trans States Airl...|  22.335766423357665|\n",
      "|    Compass Airlines|  14.836996418979409|\n",
      "|Peninsula Airways...|  15.569902048085485|\n",
      "|         Comair Inc.|  12.789145931049102|\n",
      "|Frontier Airlines...|  22.355794184968047|\n",
      "|            Cape Air|   5.390332326283988|\n",
      "|Southwest Airline...|  11.119075494383111|\n",
      "|ExpressJet Airlin...|   17.85813960668087|\n",
      "|     JetBlue Airways|  19.820095513806514|\n",
      "|Commutair Aka Cha...|   29.28407567733855|\n",
      "|Empire Airlines Inc.|  14.458483321334294|\n",
      "|           Envoy Air|  12.531226455600832|\n",
      "+--------------------+--------------------+\n",
      "only showing top 20 rows\n",
      "\n"
     ]
    }
   ],
   "source": [
    "# Filter for flights that were not canceled\n",
    "df_no_cancellation = df_clean.filter(col(\"Cancelled\") == 0)\n",
    "\n",
    "# Calculate average arrival delay per airline\n",
    "avg_delay_per_airline = df_clean.groupBy(\"Airline\").avg(\"ArrDelayMinutes\").show()\n"
   ]
  },
  {
   "cell_type": "code",
   "execution_count": 115,
   "id": "6dfca9d7",
   "metadata": {},
   "outputs": [],
   "source": [
    "from pyspark.sql import SparkSession\n",
    "\n",
    "spark = SparkSession.builder \\\n",
    "    .appName(\"CSV to Hive\") \\\n",
    "    .enableHiveSupport() \\\n",
    "    .getOrCreate()\n",
    "\n",
    "csv_path = \"hdfs:///user/talentum/flight_2018/Flights_2018_1\""
   ]
  },
  {
   "cell_type": "code",
   "execution_count": 116,
   "id": "dc7710a4",
   "metadata": {},
   "outputs": [
    {
     "name": "stdout",
     "output_type": "stream",
     "text": [
      "52\n"
     ]
    }
   ],
   "source": [
    "cols_to_drop = [\n",
    "    \"DivReachedDest\", \"DivActualElapsedTime\", \"DivArrDelay\", \"DivDistance\", \"Div1Airport\",\n",
    "    \"Div1AirportID\", \"Div1AirportSeqID\", \"Div1WheelsOn\", \"Div1TotalGTime\", \"Div1LongestGTime\",\n",
    "    \"Div1WheelsOff\", \"Div1TailNum\", \"Div2Airport\", \"Div2AirportID\", \"Div2AirportSeqID\", \"Div2WheelsOn\",\n",
    "    \"Div2TotalGTime\", \"Div2LongestGTime\", \"Div2WheelsOff\", \"Div2TailNum\", \"Div3Airport\", \"Div3AirportID\",\n",
    "    \"Div3AirportSeqID\", \"Div3WheelsOn\", \"Div3TotalGTime\", \"Div3LongestGTime\", \"Div3WheelsOff\", \"Div3TailNum\",\n",
    "    \"Div4Airport\", \"Div4AirportID\", \"Div4AirportSeqID\", \"Div4WheelsOn\", \"Div4TotalGTime\", \"Div4LongestGTime\",\n",
    "    \"Div4WheelsOff\", \"Div4TailNum\", \"Div5Airport\", \"Div5AirportID\", \"Div5AirportSeqID\", \"Div5WheelsOn\",\n",
    "    \"Div5TotalGTime\", \"Div5LongestGTime\", \"Div5WheelsOff\", \"Div5TailNum\", \"Duplicate\",\n",
    "    \"Originally_Scheduled_Code_Share_Airline\",\"DOT_ID_Originally_Scheduled_Code_Share_Airline\",\n",
    "    \"IATA_Code_Originally_Scheduled_Code_Share_Airline\",\"Flight_Num_Originally_Scheduled_Code_Share_Airline\",\n",
    "    \"_c119\",\"Tail_Number\",\"CancellationCode\"\n",
    "]\n",
    "print(len(cols_to_drop))\n",
    "\n"
   ]
  },
  {
   "cell_type": "code",
   "execution_count": 117,
   "id": "de6f9841",
   "metadata": {
    "scrolled": true
   },
   "outputs": [
    {
     "data": {
      "text/plain": [
       "68"
      ]
     },
     "execution_count": 117,
     "metadata": {},
     "output_type": "execute_result"
    }
   ],
   "source": [
    "df = spark.read.option(\"header\", \"true\").csv(csv_path).drop(*cols_to_drop)\n",
    "len(df.columns)"
   ]
  },
  {
   "cell_type": "code",
   "execution_count": 118,
   "id": "482932ff",
   "metadata": {},
   "outputs": [
    {
     "data": {
      "text/plain": [
       "68"
      ]
     },
     "execution_count": 118,
     "metadata": {},
     "output_type": "execute_result"
    }
   ],
   "source": [
    "len(df.columns)"
   ]
  },
  {
   "cell_type": "code",
   "execution_count": 119,
   "id": "10871dfc",
   "metadata": {
    "scrolled": true
   },
   "outputs": [
    {
     "name": "stdout",
     "output_type": "stream",
     "text": [
      "root\n",
      " |-- Year: string (nullable = true)\n",
      " |-- Quarter: string (nullable = true)\n",
      " |-- Month: string (nullable = true)\n",
      " |-- DayofMonth: string (nullable = true)\n",
      " |-- DayOfWeek: string (nullable = true)\n",
      " |-- FlightDate: string (nullable = true)\n",
      " |-- Marketing_Airline_Network: string (nullable = true)\n",
      " |-- Operated_or_Branded_Code_Share_Partners: string (nullable = true)\n",
      " |-- DOT_ID_Marketing_Airline: string (nullable = true)\n",
      " |-- IATA_Code_Marketing_Airline: string (nullable = true)\n",
      " |-- Flight_Number_Marketing_Airline: string (nullable = true)\n",
      " |-- Operating_Airline : string (nullable = true)\n",
      " |-- DOT_ID_Operating_Airline: string (nullable = true)\n",
      " |-- IATA_Code_Operating_Airline: string (nullable = true)\n",
      " |-- Flight_Number_Operating_Airline: string (nullable = true)\n",
      " |-- OriginAirportID: string (nullable = true)\n",
      " |-- OriginAirportSeqID: string (nullable = true)\n",
      " |-- OriginCityMarketID: string (nullable = true)\n",
      " |-- Origin: string (nullable = true)\n",
      " |-- OriginCityName: string (nullable = true)\n",
      " |-- OriginState: string (nullable = true)\n",
      " |-- OriginStateFips: string (nullable = true)\n",
      " |-- OriginStateName: string (nullable = true)\n",
      " |-- OriginWac: string (nullable = true)\n",
      " |-- DestAirportID: string (nullable = true)\n",
      " |-- DestAirportSeqID: string (nullable = true)\n",
      " |-- DestCityMarketID: string (nullable = true)\n",
      " |-- Dest: string (nullable = true)\n",
      " |-- DestCityName: string (nullable = true)\n",
      " |-- DestState: string (nullable = true)\n",
      " |-- DestStateFips: string (nullable = true)\n",
      " |-- DestStateName: string (nullable = true)\n",
      " |-- DestWac: string (nullable = true)\n",
      " |-- CRSDepTime: string (nullable = true)\n",
      " |-- DepTime: string (nullable = true)\n",
      " |-- DepDelay: string (nullable = true)\n",
      " |-- DepDelayMinutes: string (nullable = true)\n",
      " |-- DepDel15: string (nullable = true)\n",
      " |-- DepartureDelayGroups: string (nullable = true)\n",
      " |-- DepTimeBlk: string (nullable = true)\n",
      " |-- TaxiOut: string (nullable = true)\n",
      " |-- WheelsOff: string (nullable = true)\n",
      " |-- WheelsOn: string (nullable = true)\n",
      " |-- TaxiIn: string (nullable = true)\n",
      " |-- CRSArrTime: string (nullable = true)\n",
      " |-- ArrTime: string (nullable = true)\n",
      " |-- ArrDelay: string (nullable = true)\n",
      " |-- ArrDelayMinutes: string (nullable = true)\n",
      " |-- ArrDel15: string (nullable = true)\n",
      " |-- ArrivalDelayGroups: string (nullable = true)\n",
      " |-- ArrTimeBlk: string (nullable = true)\n",
      " |-- Cancelled: string (nullable = true)\n",
      " |-- Diverted: string (nullable = true)\n",
      " |-- CRSElapsedTime: string (nullable = true)\n",
      " |-- ActualElapsedTime: string (nullable = true)\n",
      " |-- AirTime: string (nullable = true)\n",
      " |-- Flights: string (nullable = true)\n",
      " |-- Distance: string (nullable = true)\n",
      " |-- DistanceGroup: string (nullable = true)\n",
      " |-- CarrierDelay: string (nullable = true)\n",
      " |-- WeatherDelay: string (nullable = true)\n",
      " |-- NASDelay: string (nullable = true)\n",
      " |-- SecurityDelay: string (nullable = true)\n",
      " |-- LateAircraftDelay: string (nullable = true)\n",
      " |-- FirstDepTime: string (nullable = true)\n",
      " |-- TotalAddGTime: string (nullable = true)\n",
      " |-- LongestAddGTime: string (nullable = true)\n",
      " |-- DivAirportLandings: string (nullable = true)\n",
      "\n"
     ]
    }
   ],
   "source": [
    "df.printSchema()"
   ]
  },
  {
   "cell_type": "code",
   "execution_count": 120,
   "id": "3d182e06",
   "metadata": {},
   "outputs": [
    {
     "name": "stdout",
     "output_type": "stream",
     "text": [
      "Column: Year, Null count: 0\n",
      "Column: Quarter, Null count: 0\n",
      "Column: Month, Null count: 0\n",
      "Column: DayofMonth, Null count: 0\n",
      "Column: DayOfWeek, Null count: 0\n",
      "Column: FlightDate, Null count: 0\n",
      "Column: Marketing_Airline_Network, Null count: 0\n",
      "Column: Operated_or_Branded_Code_Share_Partners, Null count: 0\n",
      "Column: DOT_ID_Marketing_Airline, Null count: 0\n",
      "Column: IATA_Code_Marketing_Airline, Null count: 0\n",
      "Column: Flight_Number_Marketing_Airline, Null count: 0\n",
      "Column: Operating_Airline , Null count: 0\n",
      "Column: DOT_ID_Operating_Airline, Null count: 0\n",
      "Column: IATA_Code_Operating_Airline, Null count: 0\n",
      "Column: Flight_Number_Operating_Airline, Null count: 0\n",
      "Column: OriginAirportID, Null count: 0\n",
      "Column: OriginAirportSeqID, Null count: 0\n",
      "Column: OriginCityMarketID, Null count: 0\n",
      "Column: Origin, Null count: 0\n",
      "Column: OriginCityName, Null count: 0\n",
      "Column: OriginState, Null count: 0\n",
      "Column: OriginStateFips, Null count: 0\n",
      "Column: OriginStateName, Null count: 0\n",
      "Column: OriginWac, Null count: 0\n",
      "Column: DestAirportID, Null count: 0\n",
      "Column: DestAirportSeqID, Null count: 0\n",
      "Column: DestCityMarketID, Null count: 0\n",
      "Column: Dest, Null count: 0\n",
      "Column: DestCityName, Null count: 0\n",
      "Column: DestState, Null count: 0\n",
      "Column: DestStateFips, Null count: 0\n",
      "Column: DestStateName, Null count: 0\n",
      "Column: DestWac, Null count: 0\n",
      "Column: CRSDepTime, Null count: 0\n",
      "Column: DepTime, Null count: 12437\n",
      "Column: DepDelay, Null count: 12925\n",
      "Column: DepDelayMinutes, Null count: 12925\n",
      "Column: DepDel15, Null count: 12925\n",
      "Column: DepartureDelayGroups, Null count: 12925\n",
      "Column: DepTimeBlk, Null count: 0\n",
      "Column: TaxiOut, Null count: 13461\n",
      "Column: WheelsOff, Null count: 13452\n",
      "Column: WheelsOn, Null count: 13873\n",
      "Column: TaxiIn, Null count: 13882\n",
      "Column: CRSArrTime, Null count: 0\n",
      "Column: ArrTime, Null count: 13021\n",
      "Column: ArrDelay, Null count: 13967\n",
      "Column: ArrDelayMinutes, Null count: 13967\n",
      "Column: ArrDel15, Null count: 13967\n",
      "Column: ArrivalDelayGroups, Null count: 13967\n",
      "Column: ArrTimeBlk, Null count: 0\n",
      "Column: Cancelled, Null count: 0\n",
      "Column: Diverted, Null count: 0\n",
      "Column: CRSElapsedTime, Null count: 0\n",
      "Column: ActualElapsedTime, Null count: 13765\n",
      "Column: AirTime, Null count: 14626\n",
      "Column: Flights, Null count: 0\n",
      "Column: Distance, Null count: 0\n",
      "Column: DistanceGroup, Null count: 0\n",
      "Column: CarrierDelay, Null count: 379970\n",
      "Column: WeatherDelay, Null count: 379973\n",
      "Column: NASDelay, Null count: 379973\n",
      "Column: SecurityDelay, Null count: 379973\n",
      "Column: LateAircraftDelay, Null count: 379973\n",
      "Column: FirstDepTime, Null count: 455051\n",
      "Column: TotalAddGTime, Null count: 455051\n",
      "Column: LongestAddGTime, Null count: 455051\n",
      "Column: DivAirportLandings, Null count: 0\n"
     ]
    }
   ],
   "source": [
    "from pyspark.sql import functions as F\n",
    "\n",
    "# Count nulls column-wise for each column individually\n",
    "for col in df.columns:\n",
    "    null_count = df.filter(F.col(col).isNull()).count()\n",
    "    print(f\"Column: {col}, Null count: {null_count}\")\n"
   ]
  },
  {
   "cell_type": "code",
   "execution_count": 121,
   "id": "82fcf39b",
   "metadata": {},
   "outputs": [],
   "source": [
    "# 1. Compute Mode using percentile_approx for certain columns\n",
    "mode_wheels_off = df.agg(F.expr(\"percentile_approx(WheelsOff, 0.5)\")).collect()[0][0]\n",
    "mode_wheels_on = df.agg(F.expr(\"percentile_approx(WheelsOn, 0.5)\")).collect()[0][0]\n",
    "mode_air_time = df.agg(F.expr(\"percentile_approx(AirTime, 0.5)\")).collect()[0][0]\n",
    "mode_actual_elapsed_time = df.agg(F.expr(\"percentile_approx(ActualElapsedTime, 0.5)\")).collect()[0][0]\n",
    "\n",
    "# 2. Compute Mean for TaxiOut and TaxiIn\n",
    "mean_taxi_out = df.agg(F.round(F.avg(\"TaxiOut\"), 0)).collect()[0][0]\n",
    "mean_taxi_in = df.agg(F.round(F.avg(\"TaxiIn\"), 0)).collect()[0][0]\n",
    "\n",
    "# 3. Fill missing values with mode and mean for selected columns\n",
    "df_filled = df.fillna({\n",
    "    \"WheelsOff\": mode_wheels_off, \n",
    "    \"WheelsOn\": mode_wheels_on, \n",
    "    \"AirTime\": mode_air_time,\n",
    "    \"ActualElapsedTime\": mode_actual_elapsed_time,\n",
    "    \"TaxiOut\": mean_taxi_out,\n",
    "    \"TaxiIn\": mean_taxi_in\n",
    "})\n",
    "\n",
    "# 4. List of columns to impute with 0 (and cast them to double if needed)\n",
    "columns_to_impute = [\"LongestAddGTime\", \"TotalAddGTime\", \"FirstDepTime\", \"LateAircraftDelay\",\n",
    "                     \"CarrierDelay\", \"WeatherDelay\", \"NASDelay\", \"SecurityDelay\", \"ArrDelay\", \"ArrDelayMinutes\",\n",
    "                     \"ArrDel15\", \"DepDelay\", \"DepDelayMinutes\", \"DepDel15\"]\n",
    "\n",
    "# Cast columns to double before filling them with 0\n",
    "from pyspark.sql.functions import col\n",
    "\n",
    "for col_name in columns_to_impute:\n",
    "    df_filled = df_filled.withColumn(col_name, col(col_name).cast(\"double\"))\n",
    "\n",
    "# 5. Fill missing values in these columns with 0\n",
    "df_filled = df_filled.fillna(0, subset=columns_to_impute)\n",
    "\n",
    "# 6. Convert ArrivalDelayGroups and DepartureDelayGroups to double before filling with -1\n",
    "df_filled = df_filled.withColumn(\"ArrivalDelayGroups\", col(\"ArrivalDelayGroups\").cast(\"double\")) \\\n",
    "                     .withColumn(\"DepartureDelayGroups\", col(\"DepartureDelayGroups\").cast(\"double\"))\n",
    "\n",
    "# 7. Fill missing values in ArrivalDelayGroups and DepartureDelayGroups with -1\n",
    "df_filled = df_filled.fillna(-1, subset=[\"ArrivalDelayGroups\", \"DepartureDelayGroups\"])"
   ]
  },
  {
   "cell_type": "code",
   "execution_count": 122,
   "id": "27d63932",
   "metadata": {
    "scrolled": true
   },
   "outputs": [
    {
     "name": "stdout",
     "output_type": "stream",
     "text": [
      "+----+-------+-----+----------+---------+----------+-------------------------+---------------------------------------+------------------------+---------------------------+-------------------------------+------------------+------------------------+---------------------------+-------------------------------+---------------+------------------+------------------+------+--------------------+-----------+---------------+---------------+---------+-------------+----------------+----------------+----+--------------------+---------+-------------+--------------+-------+----------+-------+--------+---------------+--------+--------------------+----------+-------+---------+--------+------+----------+-------+--------+---------------+--------+------------------+----------+---------+--------+--------------+-----------------+-------+-------+--------+-------------+------------+------------+--------+-------------+-----------------+------------+-------------+---------------+------------------+\n",
      "|Year|Quarter|Month|DayofMonth|DayOfWeek|FlightDate|Marketing_Airline_Network|Operated_or_Branded_Code_Share_Partners|DOT_ID_Marketing_Airline|IATA_Code_Marketing_Airline|Flight_Number_Marketing_Airline|Operating_Airline |DOT_ID_Operating_Airline|IATA_Code_Operating_Airline|Flight_Number_Operating_Airline|OriginAirportID|OriginAirportSeqID|OriginCityMarketID|Origin|      OriginCityName|OriginState|OriginStateFips|OriginStateName|OriginWac|DestAirportID|DestAirportSeqID|DestCityMarketID|Dest|        DestCityName|DestState|DestStateFips| DestStateName|DestWac|CRSDepTime|DepTime|DepDelay|DepDelayMinutes|DepDel15|DepartureDelayGroups|DepTimeBlk|TaxiOut|WheelsOff|WheelsOn|TaxiIn|CRSArrTime|ArrTime|ArrDelay|ArrDelayMinutes|ArrDel15|ArrivalDelayGroups|ArrTimeBlk|Cancelled|Diverted|CRSElapsedTime|ActualElapsedTime|AirTime|Flights|Distance|DistanceGroup|CarrierDelay|WeatherDelay|NASDelay|SecurityDelay|LateAircraftDelay|FirstDepTime|TotalAddGTime|LongestAddGTime|DivAirportLandings|\n",
      "+----+-------+-----+----------+---------+----------+-------------------------+---------------------------------------+------------------------+---------------------------+-------------------------------+------------------+------------------------+---------------------------+-------------------------------+---------------+------------------+------------------+------+--------------------+-----------+---------------+---------------+---------+-------------+----------------+----------------+----+--------------------+---------+-------------+--------------+-------+----------+-------+--------+---------------+--------+--------------------+----------+-------+---------+--------+------+----------+-------+--------+---------------+--------+------------------+----------+---------+--------+--------------+-----------------+-------+-------+--------+-------------+------------+------------+--------+-------------+-----------------+------------+-------------+---------------+------------------+\n",
      "|2018|      1|    1|        17|        3|2018-01-17|                       DL|                           DL_CODESHARE|                   19790|                         DL|                           3298|                9E|                   20363|                         9E|                           3298|          10397|           1039707|             30397|   ATL|         Atlanta, GA|         GA|             13|        Georgia|       34|        10146|         1014602|           30146| ABY|          Albany, GA|       GA|           13|       Georgia|     34|      1037|   null|     0.0|            0.0|     0.0|                -1.0| 1000-1059|   17.0|   1345.0|  1511.0|   7.0|      1137|   null|     0.0|            0.0|     0.0|              -1.0| 1100-1159|     1.00|    0.00|         60.00|            116.0|   91.0|   1.00|  145.00|            1|         0.0|         0.0|     0.0|          0.0|              0.0|         0.0|          0.0|            0.0|                 0|\n",
      "|2018|      1|    1|        12|        5|2018-01-12|                       DL|                           DL_CODESHARE|                   19790|                         DL|                           3299|                9E|                   20363|                         9E|                           3299|          10397|           1039707|             30397|   ATL|         Atlanta, GA|         GA|             13|        Georgia|       34|        11612|         1161206|           31612| EVV|      Evansville, IN|       IN|           18|       Indiana|     42|      0939|   null|     0.0|            0.0|     0.0|                -1.0| 0900-0959|   17.0|   1345.0|  1511.0|   7.0|      1008|   null|     0.0|            0.0|     0.0|              -1.0| 1000-1059|     1.00|    0.00|         89.00|            116.0|   91.0|   1.00|  350.00|            2|         0.0|         0.0|     0.0|          0.0|              0.0|         0.0|          0.0|            0.0|                 0|\n",
      "|2018|      1|    1|        17|        3|2018-01-17|                       DL|                           DL_CODESHARE|                   19790|                         DL|                           3299|                9E|                   20363|                         9E|                           3299|          10397|           1039707|             30397|   ATL|         Atlanta, GA|         GA|             13|        Georgia|       34|        11612|         1161206|           31612| EVV|      Evansville, IN|       IN|           18|       Indiana|     42|      0939|   null|     0.0|            0.0|     0.0|                -1.0| 0900-0959|   17.0|   1345.0|  1511.0|   7.0|      1008|   null|     0.0|            0.0|     0.0|              -1.0| 1000-1059|     1.00|    0.00|         89.00|            116.0|   91.0|   1.00|  350.00|            2|         0.0|         0.0|     0.0|          0.0|              0.0|         0.0|          0.0|            0.0|                 0|\n",
      "|2018|      1|    1|         4|        4|2018-01-04|                       DL|                           DL_CODESHARE|                   19790|                         DL|                           3301|                9E|                   20363|                         9E|                           3301|          10397|           1039707|             30397|   ATL|         Atlanta, GA|         GA|             13|        Georgia|       34|        11617|         1161708|           31617| EWN|New Bern/Morehead...|       NC|           37|North Carolina|     36|      1225|   null|     0.0|            0.0|     0.0|                -1.0| 1200-1259|   17.0|   1345.0|  1511.0|   7.0|      1350|   null|     0.0|            0.0|     0.0|              -1.0| 1300-1359|     1.00|    0.00|         85.00|            116.0|   91.0|   1.00|  433.00|            2|         0.0|         0.0|     0.0|          0.0|              0.0|         0.0|          0.0|            0.0|                 0|\n",
      "|2018|      1|    1|         4|        4|2018-01-04|                       DL|                           DL_CODESHARE|                   19790|                         DL|                           3301|                9E|                   20363|                         9E|                           3301|          11617|           1161708|             31617|   EWN|New Bern/Morehead...|         NC|             37| North Carolina|       36|        10397|         1039707|           30397| ATL|         Atlanta, GA|       GA|           13|       Georgia|     34|      1415|   null|     0.0|            0.0|     0.0|                -1.0| 1400-1459|   17.0|   1345.0|  1511.0|   7.0|      1605|   null|     0.0|            0.0|     0.0|              -1.0| 1600-1659|     1.00|    0.00|        110.00|            116.0|   91.0|   1.00|  433.00|            2|         0.0|         0.0|     0.0|          0.0|              0.0|         0.0|          0.0|            0.0|                 0|\n",
      "+----+-------+-----+----------+---------+----------+-------------------------+---------------------------------------+------------------------+---------------------------+-------------------------------+------------------+------------------------+---------------------------+-------------------------------+---------------+------------------+------------------+------+--------------------+-----------+---------------+---------------+---------+-------------+----------------+----------------+----+--------------------+---------+-------------+--------------+-------+----------+-------+--------+---------------+--------+--------------------+----------+-------+---------+--------+------+----------+-------+--------+---------------+--------+------------------+----------+---------+--------+--------------+-----------------+-------+-------+--------+-------------+------------+------------+--------+-------------+-----------------+------------+-------------+---------------+------------------+\n",
      "only showing top 5 rows\n",
      "\n"
     ]
    }
   ],
   "source": [
    "df_cancelled= df_filled.filter(df_filled.Cancelled == 1)\n",
    "df_cancelled.show(5)"
   ]
  },
  {
   "cell_type": "code",
   "execution_count": 123,
   "id": "e45528c0",
   "metadata": {},
   "outputs": [
    {
     "name": "stdout",
     "output_type": "stream",
     "text": [
      "+----+-------+-----+----------+---------+----------+-------------------------+---------------------------------------+------------------------+---------------------------+-------------------------------+------------------+------------------------+---------------------------+-------------------------------+---------------+------------------+------------------+------+--------------+-----------+---------------+---------------+---------+-------------+----------------+----------------+----+------------+---------+-------------+-------------+-------+----------+-------+--------+---------------+--------+--------------------+----------+-------+---------+--------+------+----------+-------+--------+---------------+--------+------------------+----------+---------+--------+--------------+-----------------+-------+-------+--------+-------------+------------+------------+--------+-------------+-----------------+------------+-------------+---------------+------------------+\n",
      "|Year|Quarter|Month|DayofMonth|DayOfWeek|FlightDate|Marketing_Airline_Network|Operated_or_Branded_Code_Share_Partners|DOT_ID_Marketing_Airline|IATA_Code_Marketing_Airline|Flight_Number_Marketing_Airline|Operating_Airline |DOT_ID_Operating_Airline|IATA_Code_Operating_Airline|Flight_Number_Operating_Airline|OriginAirportID|OriginAirportSeqID|OriginCityMarketID|Origin|OriginCityName|OriginState|OriginStateFips|OriginStateName|OriginWac|DestAirportID|DestAirportSeqID|DestCityMarketID|Dest|DestCityName|DestState|DestStateFips|DestStateName|DestWac|CRSDepTime|DepTime|DepDelay|DepDelayMinutes|DepDel15|DepartureDelayGroups|DepTimeBlk|TaxiOut|WheelsOff|WheelsOn|TaxiIn|CRSArrTime|ArrTime|ArrDelay|ArrDelayMinutes|ArrDel15|ArrivalDelayGroups|ArrTimeBlk|Cancelled|Diverted|CRSElapsedTime|ActualElapsedTime|AirTime|Flights|Distance|DistanceGroup|CarrierDelay|WeatherDelay|NASDelay|SecurityDelay|LateAircraftDelay|FirstDepTime|TotalAddGTime|LongestAddGTime|DivAirportLandings|\n",
      "+----+-------+-----+----------+---------+----------+-------------------------+---------------------------------------+------------------------+---------------------------+-------------------------------+------------------+------------------------+---------------------------+-------------------------------+---------------+------------------+------------------+------+--------------+-----------+---------------+---------------+---------+-------------+----------------+----------------+----+------------+---------+-------------+-------------+-------+----------+-------+--------+---------------+--------+--------------------+----------+-------+---------+--------+------+----------+-------+--------+---------------+--------+------------------+----------+---------+--------+--------------+-----------------+-------+-------+--------+-------------+------------+------------+--------+-------------+-----------------+------------+-------------+---------------+------------------+\n",
      "|2018|      1|    1|        23|        2|2018-01-23|                       DL|                           DL_CODESHARE|                   19790|                         DL|                           3298|                9E|                   20363|                         9E|                           3298|          10146|           1014602|             30146|   ABY|    Albany, GA|         GA|             13|        Georgia|       34|        10397|         1039707|           30397| ATL| Atlanta, GA|       GA|           13|      Georgia|     34|      1202|   1157|   -5.00|           0.00|    0.00|                  -1| 1200-1259|  14.00|     1211|    1249|  7.00|      1304|   1256|   -8.00|           0.00|    0.00|                -1| 1300-1359|     0.00|    0.00|         62.00|            59.00|  38.00|   1.00|  145.00|            1|        null|        null|    null|         null|             null|        null|         null|           null|                 0|\n",
      "|2018|      1|    1|        24|        3|2018-01-24|                       DL|                           DL_CODESHARE|                   19790|                         DL|                           3298|                9E|                   20363|                         9E|                           3298|          10146|           1014602|             30146|   ABY|    Albany, GA|         GA|             13|        Georgia|       34|        10397|         1039707|           30397| ATL| Atlanta, GA|       GA|           13|      Georgia|     34|      1202|   1157|   -5.00|           0.00|    0.00|                  -1| 1200-1259|  13.00|     1210|    1246| 12.00|      1304|   1258|   -6.00|           0.00|    0.00|                -1| 1300-1359|     0.00|    0.00|         62.00|            61.00|  36.00|   1.00|  145.00|            1|        null|        null|    null|         null|             null|        null|         null|           null|                 0|\n",
      "|2018|      1|    1|        25|        4|2018-01-25|                       DL|                           DL_CODESHARE|                   19790|                         DL|                           3298|                9E|                   20363|                         9E|                           3298|          10146|           1014602|             30146|   ABY|    Albany, GA|         GA|             13|        Georgia|       34|        10397|         1039707|           30397| ATL| Atlanta, GA|       GA|           13|      Georgia|     34|      1202|   1153|   -9.00|           0.00|    0.00|                  -1| 1200-1259|  18.00|     1211|    1251| 11.00|      1304|   1302|   -2.00|           0.00|    0.00|                -1| 1300-1359|     0.00|    0.00|         62.00|            69.00|  40.00|   1.00|  145.00|            1|        null|        null|    null|         null|             null|        null|         null|           null|                 0|\n",
      "|2018|      1|    1|        26|        5|2018-01-26|                       DL|                           DL_CODESHARE|                   19790|                         DL|                           3298|                9E|                   20363|                         9E|                           3298|          10146|           1014602|             30146|   ABY|    Albany, GA|         GA|             13|        Georgia|       34|        10397|         1039707|           30397| ATL| Atlanta, GA|       GA|           13|      Georgia|     34|      1202|   1150|  -12.00|           0.00|    0.00|                  -1| 1200-1259|  17.00|     1207|    1242| 11.00|      1304|   1253|  -11.00|           0.00|    0.00|                -1| 1300-1359|     0.00|    0.00|         62.00|            63.00|  35.00|   1.00|  145.00|            1|        null|        null|    null|         null|             null|        null|         null|           null|                 0|\n",
      "|2018|      1|    1|        27|        6|2018-01-27|                       DL|                           DL_CODESHARE|                   19790|                         DL|                           3298|                9E|                   20363|                         9E|                           3298|          10146|           1014602|             30146|   ABY|    Albany, GA|         GA|             13|        Georgia|       34|        10397|         1039707|           30397| ATL| Atlanta, GA|       GA|           13|      Georgia|     34|      1400|   1355|   -5.00|           0.00|    0.00|                  -1| 1400-1459|  17.00|     1412|    1448| 11.00|      1500|   1459|   -1.00|           0.00|    0.00|                -1| 1500-1559|     0.00|    0.00|         60.00|            64.00|  36.00|   1.00|  145.00|            1|        null|        null|    null|         null|             null|        null|         null|           null|                 0|\n",
      "|2018|      1|    1|        28|        7|2018-01-28|                       DL|                           DL_CODESHARE|                   19790|                         DL|                           3298|                9E|                   20363|                         9E|                           3298|          10146|           1014602|             30146|   ABY|    Albany, GA|         GA|             13|        Georgia|       34|        10397|         1039707|           30397| ATL| Atlanta, GA|       GA|           13|      Georgia|     34|      1202|   1202|    null|           null|    null|                null| 1200-1259|  34.00|     1236|    1313| 13.00|      1304|   1326|   22.00|          22.00|    1.00|                 1| 1300-1359|     0.00|    0.00|         62.00|            84.00|  37.00|   1.00|  145.00|            1|        0.00|        0.00|   22.00|         0.00|             0.00|        null|         null|           null|                 0|\n",
      "|2018|      1|    1|        29|        1|2018-01-29|                       DL|                           DL_CODESHARE|                   19790|                         DL|                           3298|                9E|                   20363|                         9E|                           3298|          10146|           1014602|             30146|   ABY|    Albany, GA|         GA|             13|        Georgia|       34|        10397|         1039707|           30397| ATL| Atlanta, GA|       GA|           13|      Georgia|     34|      1202|   1204|    2.00|           2.00|    0.00|                   0| 1200-1259|  15.00|     1219|    1253| 10.00|      1304|   1303|   -1.00|           0.00|    0.00|                -1| 1300-1359|     0.00|    0.00|         62.00|            59.00|  34.00|   1.00|  145.00|            1|        null|        null|    null|         null|             null|        null|         null|           null|                 0|\n",
      "|2018|      1|    1|        30|        2|2018-01-30|                       DL|                           DL_CODESHARE|                   19790|                         DL|                           3298|                9E|                   20363|                         9E|                           3298|          10146|           1014602|             30146|   ABY|    Albany, GA|         GA|             13|        Georgia|       34|        10397|         1039707|           30397| ATL| Atlanta, GA|       GA|           13|      Georgia|     34|      1202|   1153|   -9.00|           0.00|    0.00|                  -1| 1200-1259|   7.00|     1200|    1244| 11.00|      1304|   1255|   -9.00|           0.00|    0.00|                -1| 1300-1359|     0.00|    0.00|         62.00|            62.00|  44.00|   1.00|  145.00|            1|        null|        null|    null|         null|             null|        null|         null|           null|                 0|\n",
      "|2018|      1|    1|        31|        3|2018-01-31|                       DL|                           DL_CODESHARE|                   19790|                         DL|                           3298|                9E|                   20363|                         9E|                           3298|          10146|           1014602|             30146|   ABY|    Albany, GA|         GA|             13|        Georgia|       34|        10397|         1039707|           30397| ATL| Atlanta, GA|       GA|           13|      Georgia|     34|      1202|   1153|   -9.00|           0.00|    0.00|                  -1| 1200-1259|  26.00|     1219|    1256|  8.00|      1304|   1304|    null|           null|    null|              null| 1300-1359|     0.00|    0.00|         62.00|            71.00|  37.00|   1.00|  145.00|            1|        null|        null|    null|         null|             null|        null|         null|           null|                 0|\n",
      "|2018|      1|    1|         3|        3|2018-01-03|                       DL|                           DL_CODESHARE|                   19790|                         DL|                           3298|                9E|                   20363|                         9E|                           3298|          10397|           1039707|             30397|   ATL|   Atlanta, GA|         GA|             13|        Georgia|       34|        10146|         1014602|           30146| ABY|  Albany, GA|       GA|           13|      Georgia|     34|      1037|   1101|   24.00|          24.00|    1.00|                   1| 1000-1059|  23.00|     1124|    1156|  3.00|      1137|   1159|   22.00|          22.00|    1.00|                 1| 1100-1159|     0.00|    0.00|         60.00|            58.00|  32.00|   1.00|  145.00|            1|       22.00|        0.00|    0.00|         0.00|             0.00|        null|         null|           null|                 0|\n",
      "|2018|      1|    1|         4|        4|2018-01-04|                       DL|                           DL_CODESHARE|                   19790|                         DL|                           3298|                9E|                   20363|                         9E|                           3298|          10397|           1039707|             30397|   ATL|   Atlanta, GA|         GA|             13|        Georgia|       34|        10146|         1014602|           30146| ABY|  Albany, GA|       GA|           13|      Georgia|     34|      1037|   1032|   -5.00|           0.00|    0.00|                  -1| 1000-1059|  23.00|     1055|    1122|  3.00|      1137|   1125|  -12.00|           0.00|    0.00|                -1| 1100-1159|     0.00|    0.00|         60.00|            53.00|  27.00|   1.00|  145.00|            1|        null|        null|    null|         null|             null|        null|         null|           null|                 0|\n",
      "|2018|      1|    1|         5|        5|2018-01-05|                       DL|                           DL_CODESHARE|                   19790|                         DL|                           3298|                9E|                   20363|                         9E|                           3298|          10397|           1039707|             30397|   ATL|   Atlanta, GA|         GA|             13|        Georgia|       34|        10146|         1014602|           30146| ABY|  Albany, GA|       GA|           13|      Georgia|     34|      1037|   1032|   -5.00|           0.00|    0.00|                  -1| 1000-1059|  20.00|     1052|    1121|  3.00|      1137|   1124|  -13.00|           0.00|    0.00|                -1| 1100-1159|     0.00|    0.00|         60.00|            52.00|  29.00|   1.00|  145.00|            1|        null|        null|    null|         null|             null|        null|         null|           null|                 0|\n",
      "|2018|      1|    1|         6|        6|2018-01-06|                       DL|                           DL_CODESHARE|                   19790|                         DL|                           3298|                9E|                   20363|                         9E|                           3298|          10397|           1039707|             30397|   ATL|   Atlanta, GA|         GA|             13|        Georgia|       34|        10146|         1014602|           30146| ABY|  Albany, GA|       GA|           13|      Georgia|     34|      1037|   1032|   -5.00|           0.00|    0.00|                  -1| 1000-1059|  18.00|     1050|    1124|  2.00|      1136|   1126|  -10.00|           0.00|    0.00|                -1| 1100-1159|     0.00|    0.00|         59.00|            54.00|  34.00|   1.00|  145.00|            1|        null|        null|    null|         null|             null|        null|         null|           null|                 0|\n",
      "|2018|      1|    1|         7|        7|2018-01-07|                       DL|                           DL_CODESHARE|                   19790|                         DL|                           3298|                9E|                   20363|                         9E|                           3298|          10397|           1039707|             30397|   ATL|   Atlanta, GA|         GA|             13|        Georgia|       34|        10146|         1014602|           30146| ABY|  Albany, GA|       GA|           13|      Georgia|     34|      1037|   1034|   -3.00|           0.00|    0.00|                  -1| 1000-1059|  18.00|     1052|    1121|  3.00|      1137|   1124|  -13.00|           0.00|    0.00|                -1| 1100-1159|     0.00|    0.00|         60.00|            50.00|  29.00|   1.00|  145.00|            1|        null|        null|    null|         null|             null|        null|         null|           null|                 0|\n",
      "|2018|      1|    1|         8|        1|2018-01-08|                       DL|                           DL_CODESHARE|                   19790|                         DL|                           3298|                9E|                   20363|                         9E|                           3298|          10397|           1039707|             30397|   ATL|   Atlanta, GA|         GA|             13|        Georgia|       34|        10146|         1014602|           30146| ABY|  Albany, GA|       GA|           13|      Georgia|     34|      1037|   1059|   22.00|          22.00|    1.00|                   1| 1000-1059|  18.00|     1117|    1149|  4.00|      1137|   1153|   16.00|          16.00|    1.00|                 1| 1100-1159|     0.00|    0.00|         60.00|            54.00|  32.00|   1.00|  145.00|            1|        0.00|        0.00|    0.00|         0.00|            16.00|        null|         null|           null|                 0|\n",
      "|2018|      1|    1|         9|        2|2018-01-09|                       DL|                           DL_CODESHARE|                   19790|                         DL|                           3298|                9E|                   20363|                         9E|                           3298|          10397|           1039707|             30397|   ATL|   Atlanta, GA|         GA|             13|        Georgia|       34|        10146|         1014602|           30146| ABY|  Albany, GA|       GA|           13|      Georgia|     34|      1037|   1222|  105.00|         105.00|    1.00|                   7| 1000-1059|  20.00|     1242|    1319|  3.00|      1137|   1322|  105.00|         105.00|    1.00|                 7| 1100-1159|     0.00|    0.00|         60.00|            60.00|  37.00|   1.00|  145.00|            1|        0.00|        0.00|    0.00|         0.00|           105.00|        null|         null|           null|                 0|\n",
      "|2018|      1|    1|        10|        3|2018-01-10|                       DL|                           DL_CODESHARE|                   19790|                         DL|                           3298|                9E|                   20363|                         9E|                           3298|          10397|           1039707|             30397|   ATL|   Atlanta, GA|         GA|             13|        Georgia|       34|        10146|         1014602|           30146| ABY|  Albany, GA|       GA|           13|      Georgia|     34|      1037|   1027|  -10.00|           0.00|    0.00|                  -1| 1000-1059|  19.00|     1046|    1123|  3.00|      1137|   1126|  -11.00|           0.00|    0.00|                -1| 1100-1159|     0.00|    0.00|         60.00|            59.00|  37.00|   1.00|  145.00|            1|        null|        null|    null|         null|             null|        null|         null|           null|                 0|\n",
      "|2018|      1|    1|        11|        4|2018-01-11|                       DL|                           DL_CODESHARE|                   19790|                         DL|                           3298|                9E|                   20363|                         9E|                           3298|          10397|           1039707|             30397|   ATL|   Atlanta, GA|         GA|             13|        Georgia|       34|        10146|         1014602|           30146| ABY|  Albany, GA|       GA|           13|      Georgia|     34|      1037|   1033|   -4.00|           0.00|    0.00|                  -1| 1000-1059|  31.00|     1104|    1142|  3.00|      1137|   1145|    8.00|           8.00|    0.00|                 0| 1100-1159|     0.00|    0.00|         60.00|            72.00|  38.00|   1.00|  145.00|            1|        null|        null|    null|         null|             null|        null|         null|           null|                 0|\n",
      "|2018|      1|    1|        12|        5|2018-01-12|                       DL|                           DL_CODESHARE|                   19790|                         DL|                           3298|                9E|                   20363|                         9E|                           3298|          10397|           1039707|             30397|   ATL|   Atlanta, GA|         GA|             13|        Georgia|       34|        10146|         1014602|           30146| ABY|  Albany, GA|       GA|           13|      Georgia|     34|      1037|   1044|    7.00|           7.00|    0.00|                   0| 1000-1059|  16.00|     1100|    1135|  3.00|      1137|   1138|    1.00|           1.00|    0.00|                 0| 1100-1159|     0.00|    0.00|         60.00|            54.00|  35.00|   1.00|  145.00|            1|        null|        null|    null|         null|             null|        null|         null|           null|                 0|\n",
      "|2018|      1|    1|        13|        6|2018-01-13|                       DL|                           DL_CODESHARE|                   19790|                         DL|                           3298|                9E|                   20363|                         9E|                           3298|          10397|           1039707|             30397|   ATL|   Atlanta, GA|         GA|             13|        Georgia|       34|        10146|         1014602|           30146| ABY|  Albany, GA|       GA|           13|      Georgia|     34|      1037|   1034|   -3.00|           0.00|    0.00|                  -1| 1000-1059|  16.00|     1050|    1124|  2.00|      1136|   1126|  -10.00|           0.00|    0.00|                -1| 1100-1159|     0.00|    0.00|         59.00|            52.00|  34.00|   1.00|  145.00|            1|        null|        null|    null|         null|             null|        null|         null|           null|                 0|\n",
      "+----+-------+-----+----------+---------+----------+-------------------------+---------------------------------------+------------------------+---------------------------+-------------------------------+------------------+------------------------+---------------------------+-------------------------------+---------------+------------------+------------------+------+--------------+-----------+---------------+---------------+---------+-------------+----------------+----------------+----+------------+---------+-------------+-------------+-------+----------+-------+--------+---------------+--------+--------------------+----------+-------+---------+--------+------+----------+-------+--------+---------------+--------+------------------+----------+---------+--------+--------------+-----------------+-------+-------+--------+-------------+------------+------------+--------+-------------+-----------------+------------+-------------+---------------+------------------+\n",
      "only showing top 20 rows\n",
      "\n"
     ]
    }
   ],
   "source": [
    "df= df.filter(df.Cancelled != 1)\n",
    "df.show()"
   ]
  },
  {
   "cell_type": "code",
   "execution_count": 124,
   "id": "d83c89dd",
   "metadata": {
    "scrolled": true
   },
   "outputs": [
    {
     "name": "stdout",
     "output_type": "stream",
     "text": [
      "Column: Year, Null count: 0\n",
      "Column: Quarter, Null count: 0\n",
      "Column: Month, Null count: 0\n",
      "Column: DayofMonth, Null count: 0\n",
      "Column: DayOfWeek, Null count: 0\n",
      "Column: FlightDate, Null count: 0\n",
      "Column: Marketing_Airline_Network, Null count: 0\n",
      "Column: Operated_or_Branded_Code_Share_Partners, Null count: 0\n",
      "Column: DOT_ID_Marketing_Airline, Null count: 0\n",
      "Column: IATA_Code_Marketing_Airline, Null count: 0\n",
      "Column: Flight_Number_Marketing_Airline, Null count: 0\n",
      "Column: Operating_Airline , Null count: 0\n",
      "Column: DOT_ID_Operating_Airline, Null count: 0\n",
      "Column: IATA_Code_Operating_Airline, Null count: 0\n",
      "Column: Flight_Number_Operating_Airline, Null count: 0\n",
      "Column: OriginAirportID, Null count: 0\n",
      "Column: OriginAirportSeqID, Null count: 0\n",
      "Column: OriginCityMarketID, Null count: 0\n",
      "Column: Origin, Null count: 0\n",
      "Column: OriginCityName, Null count: 0\n",
      "Column: OriginState, Null count: 0\n",
      "Column: OriginStateFips, Null count: 0\n",
      "Column: OriginStateName, Null count: 0\n",
      "Column: OriginWac, Null count: 0\n",
      "Column: DestAirportID, Null count: 0\n",
      "Column: DestAirportSeqID, Null count: 0\n",
      "Column: DestCityMarketID, Null count: 0\n",
      "Column: Dest, Null count: 0\n",
      "Column: DestCityName, Null count: 0\n",
      "Column: DestState, Null count: 0\n",
      "Column: DestStateFips, Null count: 0\n",
      "Column: DestStateName, Null count: 0\n",
      "Column: DestWac, Null count: 0\n",
      "Column: CRSDepTime, Null count: 0\n",
      "Column: DepTime, Null count: 12437\n",
      "Column: DepDelay, Null count: 0\n",
      "Column: DepDelayMinutes, Null count: 0\n",
      "Column: DepDel15, Null count: 0\n",
      "Column: DepartureDelayGroups, Null count: 0\n",
      "Column: DepTimeBlk, Null count: 0\n",
      "Column: TaxiOut, Null count: 0\n",
      "Column: WheelsOff, Null count: 0\n",
      "Column: WheelsOn, Null count: 0\n",
      "Column: TaxiIn, Null count: 0\n",
      "Column: CRSArrTime, Null count: 0\n",
      "Column: ArrTime, Null count: 13021\n",
      "Column: ArrDelay, Null count: 0\n",
      "Column: ArrDelayMinutes, Null count: 0\n",
      "Column: ArrDel15, Null count: 0\n",
      "Column: ArrivalDelayGroups, Null count: 0\n",
      "Column: ArrTimeBlk, Null count: 0\n",
      "Column: Cancelled, Null count: 0\n",
      "Column: Diverted, Null count: 0\n",
      "Column: CRSElapsedTime, Null count: 0\n",
      "Column: ActualElapsedTime, Null count: 0\n",
      "Column: AirTime, Null count: 0\n",
      "Column: Flights, Null count: 0\n",
      "Column: Distance, Null count: 0\n",
      "Column: DistanceGroup, Null count: 0\n",
      "Column: CarrierDelay, Null count: 0\n",
      "Column: WeatherDelay, Null count: 0\n",
      "Column: NASDelay, Null count: 0\n",
      "Column: SecurityDelay, Null count: 0\n",
      "Column: LateAircraftDelay, Null count: 0\n",
      "Column: FirstDepTime, Null count: 0\n",
      "Column: TotalAddGTime, Null count: 0\n",
      "Column: LongestAddGTime, Null count: 0\n",
      "Column: DivAirportLandings, Null count: 0\n"
     ]
    }
   ],
   "source": [
    "for c in df_filled.columns:\n",
    "    null_count = df_filled.filter(F.col(c).isNull()).count()\n",
    "    print(f\"Column: {c}, Null count: {null_count}\")"
   ]
  },
  {
   "cell_type": "code",
   "execution_count": 126,
   "id": "dba7f556",
   "metadata": {},
   "outputs": [],
   "source": [
    "# Filter out rows where 'Cancelled' column is 1\n",
    "df_nc = df_filled.filter(df_filled.Cancelled != 1)\n"
   ]
  },
  {
   "cell_type": "code",
   "execution_count": 114,
   "id": "8b657884",
   "metadata": {},
   "outputs": [
    {
     "name": "stdout",
     "output_type": "stream",
     "text": [
      "+----+-------+-----+----------+---------+----------+-------------------------+---------------------------------------+------------------------+---------------------------+-------------------------------+------------------+------------------------+---------------------------+-----------+-------------------------------+---------------+------------------+------------------+------+--------------+-----------+---------------+---------------+---------+-------------+----------------+----------------+----+------------+---------+-------------+-------------+-------+----------+-------+--------+---------------+--------+--------------------+----------+-------+---------+--------+------+----------+-------+--------+---------------+--------+------------------+----------+---------+----------------+--------+--------------+-----------------+-------+-------+--------+-------------+------------+------------+--------+-------------+-----------------+------------+-------------+---------------+------------------+\n",
      "|Year|Quarter|Month|DayofMonth|DayOfWeek|FlightDate|Marketing_Airline_Network|Operated_or_Branded_Code_Share_Partners|DOT_ID_Marketing_Airline|IATA_Code_Marketing_Airline|Flight_Number_Marketing_Airline|Operating_Airline |DOT_ID_Operating_Airline|IATA_Code_Operating_Airline|Tail_Number|Flight_Number_Operating_Airline|OriginAirportID|OriginAirportSeqID|OriginCityMarketID|Origin|OriginCityName|OriginState|OriginStateFips|OriginStateName|OriginWac|DestAirportID|DestAirportSeqID|DestCityMarketID|Dest|DestCityName|DestState|DestStateFips|DestStateName|DestWac|CRSDepTime|DepTime|DepDelay|DepDelayMinutes|DepDel15|DepartureDelayGroups|DepTimeBlk|TaxiOut|WheelsOff|WheelsOn|TaxiIn|CRSArrTime|ArrTime|ArrDelay|ArrDelayMinutes|ArrDel15|ArrivalDelayGroups|ArrTimeBlk|Cancelled|CancellationCode|Diverted|CRSElapsedTime|ActualElapsedTime|AirTime|Flights|Distance|DistanceGroup|CarrierDelay|WeatherDelay|NASDelay|SecurityDelay|LateAircraftDelay|FirstDepTime|TotalAddGTime|LongestAddGTime|DivAirportLandings|\n",
      "+----+-------+-----+----------+---------+----------+-------------------------+---------------------------------------+------------------------+---------------------------+-------------------------------+------------------+------------------------+---------------------------+-----------+-------------------------------+---------------+------------------+------------------+------+--------------+-----------+---------------+---------------+---------+-------------+----------------+----------------+----+------------+---------+-------------+-------------+-------+----------+-------+--------+---------------+--------+--------------------+----------+-------+---------+--------+------+----------+-------+--------+---------------+--------+------------------+----------+---------+----------------+--------+--------------+-----------------+-------+-------+--------+-------------+------------+------------+--------+-------------+-----------------+------------+-------------+---------------+------------------+\n",
      "|2018|      1|    1|        23|        2|2018-01-23|                       DL|                           DL_CODESHARE|                   19790|                         DL|                           3298|                9E|                   20363|                         9E|     N8928A|                           3298|          10146|           1014602|             30146|   ABY|    Albany, GA|         GA|             13|        Georgia|       34|        10397|         1039707|           30397| ATL| Atlanta, GA|       GA|           13|      Georgia|     34|      1202|   1157|    -5.0|            0.0|     0.0|                -1.0| 1200-1259|  14.00|     1211|    1249|  7.00|      1304|   1256|    -8.0|            0.0|     0.0|              -1.0| 1300-1359|     0.00|            null|    0.00|         62.00|            59.00|  38.00|   1.00|  145.00|            1|         0.0|         0.0|     0.0|          0.0|              0.0|         0.0|          0.0|            0.0|                 0|\n",
      "|2018|      1|    1|        24|        3|2018-01-24|                       DL|                           DL_CODESHARE|                   19790|                         DL|                           3298|                9E|                   20363|                         9E|     N800AY|                           3298|          10146|           1014602|             30146|   ABY|    Albany, GA|         GA|             13|        Georgia|       34|        10397|         1039707|           30397| ATL| Atlanta, GA|       GA|           13|      Georgia|     34|      1202|   1157|    -5.0|            0.0|     0.0|                -1.0| 1200-1259|  13.00|     1210|    1246| 12.00|      1304|   1258|    -6.0|            0.0|     0.0|              -1.0| 1300-1359|     0.00|            null|    0.00|         62.00|            61.00|  36.00|   1.00|  145.00|            1|         0.0|         0.0|     0.0|          0.0|              0.0|         0.0|          0.0|            0.0|                 0|\n",
      "|2018|      1|    1|        25|        4|2018-01-25|                       DL|                           DL_CODESHARE|                   19790|                         DL|                           3298|                9E|                   20363|                         9E|     N8836A|                           3298|          10146|           1014602|             30146|   ABY|    Albany, GA|         GA|             13|        Georgia|       34|        10397|         1039707|           30397| ATL| Atlanta, GA|       GA|           13|      Georgia|     34|      1202|   1153|    -9.0|            0.0|     0.0|                -1.0| 1200-1259|  18.00|     1211|    1251| 11.00|      1304|   1302|    -2.0|            0.0|     0.0|              -1.0| 1300-1359|     0.00|            null|    0.00|         62.00|            69.00|  40.00|   1.00|  145.00|            1|         0.0|         0.0|     0.0|          0.0|              0.0|         0.0|          0.0|            0.0|                 0|\n",
      "|2018|      1|    1|        26|        5|2018-01-26|                       DL|                           DL_CODESHARE|                   19790|                         DL|                           3298|                9E|                   20363|                         9E|     N800AY|                           3298|          10146|           1014602|             30146|   ABY|    Albany, GA|         GA|             13|        Georgia|       34|        10397|         1039707|           30397| ATL| Atlanta, GA|       GA|           13|      Georgia|     34|      1202|   1150|   -12.0|            0.0|     0.0|                -1.0| 1200-1259|  17.00|     1207|    1242| 11.00|      1304|   1253|   -11.0|            0.0|     0.0|              -1.0| 1300-1359|     0.00|            null|    0.00|         62.00|            63.00|  35.00|   1.00|  145.00|            1|         0.0|         0.0|     0.0|          0.0|              0.0|         0.0|          0.0|            0.0|                 0|\n",
      "|2018|      1|    1|        27|        6|2018-01-27|                       DL|                           DL_CODESHARE|                   19790|                         DL|                           3298|                9E|                   20363|                         9E|     N8839E|                           3298|          10146|           1014602|             30146|   ABY|    Albany, GA|         GA|             13|        Georgia|       34|        10397|         1039707|           30397| ATL| Atlanta, GA|       GA|           13|      Georgia|     34|      1400|   1355|    -5.0|            0.0|     0.0|                -1.0| 1400-1459|  17.00|     1412|    1448| 11.00|      1500|   1459|    -1.0|            0.0|     0.0|              -1.0| 1500-1559|     0.00|            null|    0.00|         60.00|            64.00|  36.00|   1.00|  145.00|            1|         0.0|         0.0|     0.0|          0.0|              0.0|         0.0|          0.0|            0.0|                 0|\n",
      "|2018|      1|    1|        28|        7|2018-01-28|                       DL|                           DL_CODESHARE|                   19790|                         DL|                           3298|                9E|                   20363|                         9E|     N8918B|                           3298|          10146|           1014602|             30146|   ABY|    Albany, GA|         GA|             13|        Georgia|       34|        10397|         1039707|           30397| ATL| Atlanta, GA|       GA|           13|      Georgia|     34|      1202|   1202|     0.0|            0.0|     0.0|                -1.0| 1200-1259|  34.00|     1236|    1313| 13.00|      1304|   1326|    22.0|           22.0|     1.0|               1.0| 1300-1359|     0.00|            null|    0.00|         62.00|            84.00|  37.00|   1.00|  145.00|            1|         0.0|         0.0|    22.0|          0.0|              0.0|         0.0|          0.0|            0.0|                 0|\n",
      "|2018|      1|    1|        29|        1|2018-01-29|                       DL|                           DL_CODESHARE|                   19790|                         DL|                           3298|                9E|                   20363|                         9E|     N8783E|                           3298|          10146|           1014602|             30146|   ABY|    Albany, GA|         GA|             13|        Georgia|       34|        10397|         1039707|           30397| ATL| Atlanta, GA|       GA|           13|      Georgia|     34|      1202|   1204|     2.0|            2.0|     0.0|                 0.0| 1200-1259|  15.00|     1219|    1253| 10.00|      1304|   1303|    -1.0|            0.0|     0.0|              -1.0| 1300-1359|     0.00|            null|    0.00|         62.00|            59.00|  34.00|   1.00|  145.00|            1|         0.0|         0.0|     0.0|          0.0|              0.0|         0.0|          0.0|            0.0|                 0|\n",
      "|2018|      1|    1|        30|        2|2018-01-30|                       DL|                           DL_CODESHARE|                   19790|                         DL|                           3298|                9E|                   20363|                         9E|     N8946A|                           3298|          10146|           1014602|             30146|   ABY|    Albany, GA|         GA|             13|        Georgia|       34|        10397|         1039707|           30397| ATL| Atlanta, GA|       GA|           13|      Georgia|     34|      1202|   1153|    -9.0|            0.0|     0.0|                -1.0| 1200-1259|   7.00|     1200|    1244| 11.00|      1304|   1255|    -9.0|            0.0|     0.0|              -1.0| 1300-1359|     0.00|            null|    0.00|         62.00|            62.00|  44.00|   1.00|  145.00|            1|         0.0|         0.0|     0.0|          0.0|              0.0|         0.0|          0.0|            0.0|                 0|\n",
      "|2018|      1|    1|        31|        3|2018-01-31|                       DL|                           DL_CODESHARE|                   19790|                         DL|                           3298|                9E|                   20363|                         9E|     N8918B|                           3298|          10146|           1014602|             30146|   ABY|    Albany, GA|         GA|             13|        Georgia|       34|        10397|         1039707|           30397| ATL| Atlanta, GA|       GA|           13|      Georgia|     34|      1202|   1153|    -9.0|            0.0|     0.0|                -1.0| 1200-1259|  26.00|     1219|    1256|  8.00|      1304|   1304|     0.0|            0.0|     0.0|              -1.0| 1300-1359|     0.00|            null|    0.00|         62.00|            71.00|  37.00|   1.00|  145.00|            1|         0.0|         0.0|     0.0|          0.0|              0.0|         0.0|          0.0|            0.0|                 0|\n",
      "|2018|      1|    1|         3|        3|2018-01-03|                       DL|                           DL_CODESHARE|                   19790|                         DL|                           3298|                9E|                   20363|                         9E|     N981EV|                           3298|          10397|           1039707|             30397|   ATL|   Atlanta, GA|         GA|             13|        Georgia|       34|        10146|         1014602|           30146| ABY|  Albany, GA|       GA|           13|      Georgia|     34|      1037|   1101|    24.0|           24.0|     1.0|                 1.0| 1000-1059|  23.00|     1124|    1156|  3.00|      1137|   1159|    22.0|           22.0|     1.0|               1.0| 1100-1159|     0.00|            null|    0.00|         60.00|            58.00|  32.00|   1.00|  145.00|            1|        22.0|         0.0|     0.0|          0.0|              0.0|         0.0|          0.0|            0.0|                 0|\n",
      "|2018|      1|    1|         4|        4|2018-01-04|                       DL|                           DL_CODESHARE|                   19790|                         DL|                           3298|                9E|                   20363|                         9E|     N981EV|                           3298|          10397|           1039707|             30397|   ATL|   Atlanta, GA|         GA|             13|        Georgia|       34|        10146|         1014602|           30146| ABY|  Albany, GA|       GA|           13|      Georgia|     34|      1037|   1032|    -5.0|            0.0|     0.0|                -1.0| 1000-1059|  23.00|     1055|    1122|  3.00|      1137|   1125|   -12.0|            0.0|     0.0|              -1.0| 1100-1159|     0.00|            null|    0.00|         60.00|            53.00|  27.00|   1.00|  145.00|            1|         0.0|         0.0|     0.0|          0.0|              0.0|         0.0|          0.0|            0.0|                 0|\n",
      "|2018|      1|    1|         5|        5|2018-01-05|                       DL|                           DL_CODESHARE|                   19790|                         DL|                           3298|                9E|                   20363|                         9E|     N8877A|                           3298|          10397|           1039707|             30397|   ATL|   Atlanta, GA|         GA|             13|        Georgia|       34|        10146|         1014602|           30146| ABY|  Albany, GA|       GA|           13|      Georgia|     34|      1037|   1032|    -5.0|            0.0|     0.0|                -1.0| 1000-1059|  20.00|     1052|    1121|  3.00|      1137|   1124|   -13.0|            0.0|     0.0|              -1.0| 1100-1159|     0.00|            null|    0.00|         60.00|            52.00|  29.00|   1.00|  145.00|            1|         0.0|         0.0|     0.0|          0.0|              0.0|         0.0|          0.0|            0.0|                 0|\n",
      "|2018|      1|    1|         6|        6|2018-01-06|                       DL|                           DL_CODESHARE|                   19790|                         DL|                           3298|                9E|                   20363|                         9E|     N8970D|                           3298|          10397|           1039707|             30397|   ATL|   Atlanta, GA|         GA|             13|        Georgia|       34|        10146|         1014602|           30146| ABY|  Albany, GA|       GA|           13|      Georgia|     34|      1037|   1032|    -5.0|            0.0|     0.0|                -1.0| 1000-1059|  18.00|     1050|    1124|  2.00|      1136|   1126|   -10.0|            0.0|     0.0|              -1.0| 1100-1159|     0.00|            null|    0.00|         59.00|            54.00|  34.00|   1.00|  145.00|            1|         0.0|         0.0|     0.0|          0.0|              0.0|         0.0|          0.0|            0.0|                 0|\n",
      "|2018|      1|    1|         7|        7|2018-01-07|                       DL|                           DL_CODESHARE|                   19790|                         DL|                           3298|                9E|                   20363|                         9E|     N8980A|                           3298|          10397|           1039707|             30397|   ATL|   Atlanta, GA|         GA|             13|        Georgia|       34|        10146|         1014602|           30146| ABY|  Albany, GA|       GA|           13|      Georgia|     34|      1037|   1034|    -3.0|            0.0|     0.0|                -1.0| 1000-1059|  18.00|     1052|    1121|  3.00|      1137|   1124|   -13.0|            0.0|     0.0|              -1.0| 1100-1159|     0.00|            null|    0.00|         60.00|            50.00|  29.00|   1.00|  145.00|            1|         0.0|         0.0|     0.0|          0.0|              0.0|         0.0|          0.0|            0.0|                 0|\n",
      "|2018|      1|    1|         8|        1|2018-01-08|                       DL|                           DL_CODESHARE|                   19790|                         DL|                           3298|                9E|                   20363|                         9E|     N8847A|                           3298|          10397|           1039707|             30397|   ATL|   Atlanta, GA|         GA|             13|        Georgia|       34|        10146|         1014602|           30146| ABY|  Albany, GA|       GA|           13|      Georgia|     34|      1037|   1059|    22.0|           22.0|     1.0|                 1.0| 1000-1059|  18.00|     1117|    1149|  4.00|      1137|   1153|    16.0|           16.0|     1.0|               1.0| 1100-1159|     0.00|            null|    0.00|         60.00|            54.00|  32.00|   1.00|  145.00|            1|         0.0|         0.0|     0.0|          0.0|             16.0|         0.0|          0.0|            0.0|                 0|\n",
      "|2018|      1|    1|         9|        2|2018-01-09|                       DL|                           DL_CODESHARE|                   19790|                         DL|                           3298|                9E|                   20363|                         9E|     N304PQ|                           3298|          10397|           1039707|             30397|   ATL|   Atlanta, GA|         GA|             13|        Georgia|       34|        10146|         1014602|           30146| ABY|  Albany, GA|       GA|           13|      Georgia|     34|      1037|   1222|   105.0|          105.0|     1.0|                 7.0| 1000-1059|  20.00|     1242|    1319|  3.00|      1137|   1322|   105.0|          105.0|     1.0|               7.0| 1100-1159|     0.00|            null|    0.00|         60.00|            60.00|  37.00|   1.00|  145.00|            1|         0.0|         0.0|     0.0|          0.0|            105.0|         0.0|          0.0|            0.0|                 0|\n",
      "|2018|      1|    1|        10|        3|2018-01-10|                       DL|                           DL_CODESHARE|                   19790|                         DL|                           3298|                9E|                   20363|                         9E|     N8836A|                           3298|          10397|           1039707|             30397|   ATL|   Atlanta, GA|         GA|             13|        Georgia|       34|        10146|         1014602|           30146| ABY|  Albany, GA|       GA|           13|      Georgia|     34|      1037|   1027|   -10.0|            0.0|     0.0|                -1.0| 1000-1059|  19.00|     1046|    1123|  3.00|      1137|   1126|   -11.0|            0.0|     0.0|              -1.0| 1100-1159|     0.00|            null|    0.00|         60.00|            59.00|  37.00|   1.00|  145.00|            1|         0.0|         0.0|     0.0|          0.0|              0.0|         0.0|          0.0|            0.0|                 0|\n",
      "|2018|      1|    1|        11|        4|2018-01-11|                       DL|                           DL_CODESHARE|                   19790|                         DL|                           3298|                9E|                   20363|                         9E|     N8888D|                           3298|          10397|           1039707|             30397|   ATL|   Atlanta, GA|         GA|             13|        Georgia|       34|        10146|         1014602|           30146| ABY|  Albany, GA|       GA|           13|      Georgia|     34|      1037|   1033|    -4.0|            0.0|     0.0|                -1.0| 1000-1059|  31.00|     1104|    1142|  3.00|      1137|   1145|     8.0|            8.0|     0.0|               0.0| 1100-1159|     0.00|            null|    0.00|         60.00|            72.00|  38.00|   1.00|  145.00|            1|         0.0|         0.0|     0.0|          0.0|              0.0|         0.0|          0.0|            0.0|                 0|\n",
      "|2018|      1|    1|        12|        5|2018-01-12|                       DL|                           DL_CODESHARE|                   19790|                         DL|                           3298|                9E|                   20363|                         9E|     N832AY|                           3298|          10397|           1039707|             30397|   ATL|   Atlanta, GA|         GA|             13|        Georgia|       34|        10146|         1014602|           30146| ABY|  Albany, GA|       GA|           13|      Georgia|     34|      1037|   1044|     7.0|            7.0|     0.0|                 0.0| 1000-1059|  16.00|     1100|    1135|  3.00|      1137|   1138|     1.0|            1.0|     0.0|               0.0| 1100-1159|     0.00|            null|    0.00|         60.00|            54.00|  35.00|   1.00|  145.00|            1|         0.0|         0.0|     0.0|          0.0|              0.0|         0.0|          0.0|            0.0|                 0|\n",
      "|2018|      1|    1|        13|        6|2018-01-13|                       DL|                           DL_CODESHARE|                   19790|                         DL|                           3298|                9E|                   20363|                         9E|     N8976E|                           3298|          10397|           1039707|             30397|   ATL|   Atlanta, GA|         GA|             13|        Georgia|       34|        10146|         1014602|           30146| ABY|  Albany, GA|       GA|           13|      Georgia|     34|      1037|   1034|    -3.0|            0.0|     0.0|                -1.0| 1000-1059|  16.00|     1050|    1124|  2.00|      1136|   1126|   -10.0|            0.0|     0.0|              -1.0| 1100-1159|     0.00|            null|    0.00|         59.00|            52.00|  34.00|   1.00|  145.00|            1|         0.0|         0.0|     0.0|          0.0|              0.0|         0.0|          0.0|            0.0|                 0|\n",
      "|2018|      1|    1|        14|        7|2018-01-14|                       DL|                           DL_CODESHARE|                   19790|                         DL|                           3298|                9E|                   20363|                         9E|     N836AY|                           3298|          10397|           1039707|             30397|   ATL|   Atlanta, GA|         GA|             13|        Georgia|       34|        10146|         1014602|           30146| ABY|  Albany, GA|       GA|           13|      Georgia|     34|      1037|   1031|    -6.0|            0.0|     0.0|                -1.0| 1000-1059|  16.00|     1047|    1117|  3.00|      1137|   1120|   -17.0|            0.0|     0.0|              -2.0| 1100-1159|     0.00|            null|    0.00|         60.00|            49.00|  30.00|   1.00|  145.00|            1|         0.0|         0.0|     0.0|          0.0|              0.0|         0.0|          0.0|            0.0|                 0|\n",
      "|2018|      1|    1|        15|        1|2018-01-15|                       DL|                           DL_CODESHARE|                   19790|                         DL|                           3298|                9E|                   20363|                         9E|     N819AY|                           3298|          10397|           1039707|             30397|   ATL|   Atlanta, GA|         GA|             13|        Georgia|       34|        10146|         1014602|           30146| ABY|  Albany, GA|       GA|           13|      Georgia|     34|      1037|   1030|    -7.0|            0.0|     0.0|                -1.0| 1000-1059|  20.00|     1050|    1120|  3.00|      1137|   1123|   -14.0|            0.0|     0.0|              -1.0| 1100-1159|     0.00|            null|    0.00|         60.00|            53.00|  30.00|   1.00|  145.00|            1|         0.0|         0.0|     0.0|          0.0|              0.0|         0.0|          0.0|            0.0|                 0|\n",
      "|2018|      1|    1|        16|        2|2018-01-16|                       DL|                           DL_CODESHARE|                   19790|                         DL|                           3298|                9E|                   20363|                         9E|     N8976E|                           3298|          10397|           1039707|             30397|   ATL|   Atlanta, GA|         GA|             13|        Georgia|       34|        10146|         1014602|           30146| ABY|  Albany, GA|       GA|           13|      Georgia|     34|      1037|   1033|    -4.0|            0.0|     0.0|                -1.0| 1000-1059|  23.00|     1056|    1126|  3.00|      1137|   1129|    -8.0|            0.0|     0.0|              -1.0| 1100-1159|     0.00|            null|    0.00|         60.00|            56.00|  30.00|   1.00|  145.00|            1|         0.0|         0.0|     0.0|          0.0|              0.0|         0.0|          0.0|            0.0|                 0|\n",
      "|2018|      1|    1|        18|        4|2018-01-18|                       DL|                           DL_CODESHARE|                   19790|                         DL|                           3298|                9E|                   20363|                         9E|     N8970D|                           3298|          10397|           1039707|             30397|   ATL|   Atlanta, GA|         GA|             13|        Georgia|       34|        10146|         1014602|           30146| ABY|  Albany, GA|       GA|           13|      Georgia|     34|      1037|   1233|   116.0|          116.0|     1.0|                 7.0| 1000-1059|  34.00|     1307|    1339|  6.00|      1137|   1345|   128.0|          128.0|     1.0|               8.0| 1100-1159|     0.00|            null|    0.00|         60.00|            72.00|  32.00|   1.00|  145.00|            1|         0.0|        18.0|    12.0|          0.0|             98.0|         0.0|          0.0|            0.0|                 0|\n",
      "|2018|      1|    1|        19|        5|2018-01-19|                       DL|                           DL_CODESHARE|                   19790|                         DL|                           3298|                9E|                   20363|                         9E|     N820AY|                           3298|          10397|           1039707|             30397|   ATL|   Atlanta, GA|         GA|             13|        Georgia|       34|        10146|         1014602|           30146| ABY|  Albany, GA|       GA|           13|      Georgia|     34|      1037|   1034|    -3.0|            0.0|     0.0|                -1.0| 1000-1059|  21.00|     1055|    1123|  4.00|      1137|   1127|   -10.0|            0.0|     0.0|              -1.0| 1100-1159|     0.00|            null|    0.00|         60.00|            53.00|  28.00|   1.00|  145.00|            1|         0.0|         0.0|     0.0|          0.0|              0.0|         0.0|          0.0|            0.0|                 0|\n",
      "|2018|      1|    1|        20|        6|2018-01-20|                       DL|                           DL_CODESHARE|                   19790|                         DL|                           3298|                9E|                   20363|                         9E|     N8775A|                           3298|          10397|           1039707|             30397|   ATL|   Atlanta, GA|         GA|             13|        Georgia|       34|        10146|         1014602|           30146| ABY|  Albany, GA|       GA|           13|      Georgia|     34|      1037|   1035|    -2.0|            0.0|     0.0|                -1.0| 1000-1059|  17.00|     1052|    1119|  2.00|      1136|   1121|   -15.0|            0.0|     0.0|              -1.0| 1100-1159|     0.00|            null|    0.00|         59.00|            46.00|  27.00|   1.00|  145.00|            1|         0.0|         0.0|     0.0|          0.0|              0.0|         0.0|          0.0|            0.0|                 0|\n",
      "+----+-------+-----+----------+---------+----------+-------------------------+---------------------------------------+------------------------+---------------------------+-------------------------------+------------------+------------------------+---------------------------+-----------+-------------------------------+---------------+------------------+------------------+------+--------------+-----------+---------------+---------------+---------+-------------+----------------+----------------+----+------------+---------+-------------+-------------+-------+----------+-------+--------+---------------+--------+--------------------+----------+-------+---------+--------+------+----------+-------+--------+---------------+--------+------------------+----------+---------+----------------+--------+--------------+-----------------+-------+-------+--------+-------------+------------+------------+--------+-------------+-----------------+------------+-------------+---------------+------------------+\n",
      "only showing top 26 rows\n",
      "\n"
     ]
    }
   ],
   "source": [
    "df_nc.show(26)"
   ]
  },
  {
   "cell_type": "code",
   "execution_count": 142,
   "id": "822012d0",
   "metadata": {},
   "outputs": [],
   "source": [
    "from pyspark.sql.functions import when\n",
    "# Fill DepTime with CRSDepTime if null\n",
    "df_nc = df_nc.withColumn(\"DepTime\", when(col(\"DepTime\").isNull(), col(\"CRSDepTime\")).otherwise(col(\"DepTime\")))\n",
    "\n",
    "# Fill ArrTime with CRSArrTime if null\n",
    "df_nc = df_nc.withColumn(\"ArrTime\", when(col(\"ArrTime\").isNull(), col(\"CRSArrTime\")).otherwise(col(\"ArrTime\")))\n"
   ]
  },
  {
   "cell_type": "code",
   "execution_count": 143,
   "id": "8c95c63a",
   "metadata": {},
   "outputs": [
    {
     "name": "stdout",
     "output_type": "stream",
     "text": [
      "Column: Year, Null count: 0\n",
      "Column: Quarter, Null count: 0\n",
      "Column: Month, Null count: 0\n",
      "Column: DayofMonth, Null count: 0\n",
      "Column: DayOfWeek, Null count: 0\n",
      "Column: FlightDate, Null count: 0\n",
      "Column: Marketing_Airline_Network, Null count: 0\n",
      "Column: Operated_or_Branded_Code_Share_Partners, Null count: 0\n",
      "Column: DOT_ID_Marketing_Airline, Null count: 0\n",
      "Column: IATA_Code_Marketing_Airline, Null count: 0\n",
      "Column: Flight_Number_Marketing_Airline, Null count: 0\n",
      "Column: Operating_Airline , Null count: 0\n",
      "Column: DOT_ID_Operating_Airline, Null count: 0\n",
      "Column: IATA_Code_Operating_Airline, Null count: 0\n",
      "Column: Flight_Number_Operating_Airline, Null count: 0\n",
      "Column: OriginAirportID, Null count: 0\n",
      "Column: OriginAirportSeqID, Null count: 0\n",
      "Column: OriginCityMarketID, Null count: 0\n",
      "Column: Origin, Null count: 0\n",
      "Column: OriginCityName, Null count: 0\n",
      "Column: OriginState, Null count: 0\n",
      "Column: OriginStateFips, Null count: 0\n",
      "Column: OriginStateName, Null count: 0\n",
      "Column: OriginWac, Null count: 0\n",
      "Column: DestAirportID, Null count: 0\n",
      "Column: DestAirportSeqID, Null count: 0\n",
      "Column: DestCityMarketID, Null count: 0\n",
      "Column: Dest, Null count: 0\n",
      "Column: DestCityName, Null count: 0\n",
      "Column: DestState, Null count: 0\n",
      "Column: DestStateFips, Null count: 0\n",
      "Column: DestStateName, Null count: 0\n",
      "Column: DestWac, Null count: 0\n",
      "Column: CRSDepTime, Null count: 0\n",
      "Column: DepTime, Null count: 0\n",
      "Column: DepDelay, Null count: 0\n",
      "Column: DepDelayMinutes, Null count: 0\n",
      "Column: DepDel15, Null count: 0\n",
      "Column: DepartureDelayGroups, Null count: 0\n",
      "Column: DepTimeBlk, Null count: 0\n",
      "Column: TaxiOut, Null count: 0\n",
      "Column: WheelsOff, Null count: 0\n",
      "Column: WheelsOn, Null count: 0\n",
      "Column: TaxiIn, Null count: 0\n",
      "Column: CRSArrTime, Null count: 0\n",
      "Column: ArrTime, Null count: 0\n",
      "Column: ArrDelay, Null count: 0\n",
      "Column: ArrDelayMinutes, Null count: 0\n",
      "Column: ArrDel15, Null count: 0\n",
      "Column: ArrivalDelayGroups, Null count: 0\n",
      "Column: ArrTimeBlk, Null count: 0\n",
      "Column: Cancelled, Null count: 0\n",
      "Column: Diverted, Null count: 0\n",
      "Column: CRSElapsedTime, Null count: 0\n",
      "Column: ActualElapsedTime, Null count: 0\n",
      "Column: AirTime, Null count: 0\n",
      "Column: Flights, Null count: 0\n",
      "Column: Distance, Null count: 0\n",
      "Column: DistanceGroup, Null count: 0\n",
      "Column: CarrierDelay, Null count: 0\n",
      "Column: WeatherDelay, Null count: 0\n",
      "Column: NASDelay, Null count: 0\n",
      "Column: SecurityDelay, Null count: 0\n",
      "Column: LateAircraftDelay, Null count: 0\n",
      "Column: FirstDepTime, Null count: 0\n",
      "Column: TotalAddGTime, Null count: 0\n",
      "Column: LongestAddGTime, Null count: 0\n",
      "Column: DivAirportLandings, Null count: 0\n"
     ]
    }
   ],
   "source": [
    "for c in df_nc.columns:\n",
    "    null_count = df_nc.filter(F.col(c).isNull()).count()\n",
    "    print(f\"Column: {c}, Null count: {null_count}\")"
   ]
  },
  {
   "cell_type": "code",
   "execution_count": null,
   "id": "0b710218",
   "metadata": {},
   "outputs": [],
   "source": [
    "# Specify the path to save the DataFrame in HDFS\n",
    "output_path_hdfs = \"hdfs:///user/talentum/flight_data.csv\"\n",
    "\n",
    "# Save the DataFrame as a CSV file in HDFS\n",
    "df_filled.write.option(\"header\", \"true\").csv(output_path_hdfs)"
   ]
  }
 ],
 "metadata": {
  "kernelspec": {
   "display_name": "Python 3",
   "language": "python",
   "name": "python3"
  },
  "language_info": {
   "codemirror_mode": {
    "name": "ipython",
    "version": 3
   },
   "file_extension": ".py",
   "mimetype": "text/x-python",
   "name": "python",
   "nbconvert_exporter": "python",
   "pygments_lexer": "ipython3",
   "version": "3.6.9"
  }
 },
 "nbformat": 4,
 "nbformat_minor": 5
}
